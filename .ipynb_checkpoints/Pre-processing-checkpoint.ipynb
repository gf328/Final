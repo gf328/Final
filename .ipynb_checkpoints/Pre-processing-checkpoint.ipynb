{
 "cells": [
  {
   "cell_type": "markdown",
   "id": "a7c65d58",
   "metadata": {},
   "source": [
    "# Pre-processing Data"
   ]
  },
  {
   "cell_type": "code",
   "execution_count": 82,
   "id": "fad2be3d",
   "metadata": {},
   "outputs": [],
   "source": [
    "#importing essential libraries\n",
    "import pandas as pd\n",
    "import numpy as np\n",
    "import csv"
   ]
  },
  {
   "cell_type": "code",
   "execution_count": 83,
   "id": "c89b51a9",
   "metadata": {},
   "outputs": [
    {
     "name": "stdout",
     "output_type": "stream",
     "text": [
      "                                         Song  \\\n",
      "0                                     Starboy   \n",
      "1                              Shape of You    \n",
      "2                                      Humble   \n",
      "3                           Despacito (remix)   \n",
      "4                                    Mi Gente   \n",
      "..                                        ...   \n",
      "100                                 Yes, And?   \n",
      "101                              La Diabla(2)   \n",
      "102                          Beautiful Things   \n",
      "103  We Can't Be Friends (Wait for Your Love)   \n",
      "104                      Beautiful Things(2)#   \n",
      "\n",
      "                                              Artist Release Date Issue Date  \\\n",
      "0                       The WeekndfeaturingDaft Punk    21-Sep-16  29-Dec-16   \n",
      "1                                         Ed Sheeran    06-Jan-17  12-Jan-17   \n",
      "2                                     Kendrick Lamar    30-Mar-17  20-Apr-17   \n",
      "3    Luis FonsifeaturingDaddy YankeeandJustin Bieber    17-Apr-17  27-Apr-17   \n",
      "4                     J BalvinfeaturingWilly William    30-Jun-17  03-Aug-17   \n",
      "..                                               ...          ...        ...   \n",
      "100                                    Ariana Grande    12-Jan-24  18-Jan-24   \n",
      "101                                             Xavi    30-Nov-23  25-Jan-24   \n",
      "102                                     Benson Boone    18-Jan-24  15-Feb-24   \n",
      "103                                    Ariana Grande    08-Mar-24  14-Mar-24   \n",
      "104                                     Benson Boone    18-Jan-24  28-Mar-24   \n",
      "\n",
      "     Weeks  Avs.  \n",
      "0        2  25.5  \n",
      "1       14  51.9  \n",
      "2        1  41.4  \n",
      "3       14  45.9  \n",
      "4        4  32.1  \n",
      "..     ...   ...  \n",
      "100      1  53.9  \n",
      "101      3  37.9  \n",
      "102      4  43.4  \n",
      "103      2  58.0  \n",
      "104      2  54.7  \n",
      "\n",
      "[105 rows x 6 columns]\n",
      "     Rank                            Song                        Artist  \\\n",
      "0       1                 Blinding Lights                    The Weeknd   \n",
      "1       2                    Shape of You                    Ed Sheeran   \n",
      "2       3               Someone You Loved                 Lewis Capaldi   \n",
      "3       4                       Sunflower  Post MalonefeaturingSwae Lee   \n",
      "4       5                         Starboy  The WeekndfeaturingDaft Punk   \n",
      "..    ...                             ...                           ...   \n",
      "98     99  Montero (Call Me by Your Name)                     Lil Nas X   \n",
      "99    100                Someone Like You                         Adele   \n",
      "100   101                         Stiches                  Shawn Mendes   \n",
      "101   102                   Before You Go                 Lewis Capaldi   \n",
      "102   103                         The Box                   Roddy Ricch   \n",
      "\n",
      "     Streams(billions) ReleaseDate        Ref  \n",
      "0                4.158   29-Nov-19     [2][3]  \n",
      "1                3.835   06-Jan-17        [4]  \n",
      "2                3.304   08-Nov-18        [5]  \n",
      "3                3.241   18-Oct-18     [6][7]  \n",
      "4                3.150   21-Sep-16     [8][3]  \n",
      "..                 ...         ...        ...  \n",
      "98               1.869   26-Mar-21  [129][94]  \n",
      "99               1.863   24-Jan-11        NaN  \n",
      "100              1.860   16-Mar-15        NaN  \n",
      "101              1.858   19-Nov-19        NaN  \n",
      "102              1.857   06-Dec-19        NaN  \n",
      "\n",
      "[103 rows x 6 columns]\n"
     ]
    }
   ],
   "source": [
    "# Import datasets into workbook and name them\n",
    "Number_one = pd.read_csv(\"List of number-one songs on Spotify.csv\", encoding='latin1')\n",
    "Most_streamed = pd.read_csv(\"Most-streamed songs.csv\", encoding='latin1')\n",
    "\n",
    "print(Number_one)\n",
    "print(Most_streamed)"
   ]
  },
  {
   "cell_type": "code",
   "execution_count": 84,
   "id": "fdf264a8",
   "metadata": {},
   "outputs": [
    {
     "name": "stdout",
     "output_type": "stream",
     "text": [
      "     Rank                            Song                        Artist  \\\n",
      "0       1                 Blinding Lights                    The Weeknd   \n",
      "1       2                    Shape of You                    Ed Sheeran   \n",
      "2       3               Someone You Loved                 Lewis Capaldi   \n",
      "3       4                       Sunflower  Post MalonefeaturingSwae Lee   \n",
      "4       5                         Starboy  The WeekndfeaturingDaft Punk   \n",
      "..    ...                             ...                           ...   \n",
      "98     99  Montero (Call Me by Your Name)                     Lil Nas X   \n",
      "99    100                Someone Like You                         Adele   \n",
      "100   101                         Stiches                  Shawn Mendes   \n",
      "101   102                   Before You Go                 Lewis Capaldi   \n",
      "102   103                         The Box                   Roddy Ricch   \n",
      "\n",
      "     Streams(billions) ReleaseDate  \n",
      "0                4.158   29-Nov-19  \n",
      "1                3.835   06-Jan-17  \n",
      "2                3.304   08-Nov-18  \n",
      "3                3.241   18-Oct-18  \n",
      "4                3.150   21-Sep-16  \n",
      "..                 ...         ...  \n",
      "98               1.869   26-Mar-21  \n",
      "99               1.863   24-Jan-11  \n",
      "100              1.860   16-Mar-15  \n",
      "101              1.858   19-Nov-19  \n",
      "102              1.857   06-Dec-19  \n",
      "\n",
      "[103 rows x 5 columns]\n"
     ]
    }
   ],
   "source": [
    "#Remove last column of Most streamed data as it only consists of references\n",
    "Most_streamed = Most_streamed.iloc[:, :-1]\n",
    "print(Most_streamed)"
   ]
  },
  {
   "cell_type": "code",
   "execution_count": 85,
   "id": "66c94466",
   "metadata": {},
   "outputs": [
    {
     "data": {
      "text/plain": [
       "Song            False\n",
       "Artist          False\n",
       "Release Date    False\n",
       "Issue Date      False\n",
       "Weeks           False\n",
       "Avs.            False\n",
       "dtype: bool"
      ]
     },
     "execution_count": 85,
     "metadata": {},
     "output_type": "execute_result"
    }
   ],
   "source": [
    "#Look for missing data\n",
    "\n",
    "Number_one.isnull().any()"
   ]
  },
  {
   "cell_type": "markdown",
   "id": "8d551ba1",
   "metadata": {},
   "source": [
    "No missing data."
   ]
  },
  {
   "cell_type": "code",
   "execution_count": 86,
   "id": "8714a9f1",
   "metadata": {},
   "outputs": [
    {
     "data": {
      "text/plain": [
       "Rank                 False\n",
       "Song                 False\n",
       "Artist               False\n",
       "Streams(billions)    False\n",
       "ReleaseDate          False\n",
       "dtype: bool"
      ]
     },
     "execution_count": 86,
     "metadata": {},
     "output_type": "execute_result"
    }
   ],
   "source": [
    "Most_streamed.isnull().any()"
   ]
  },
  {
   "cell_type": "markdown",
   "id": "35811954",
   "metadata": {},
   "source": [
    "No missing data."
   ]
  },
  {
   "cell_type": "code",
   "execution_count": 87,
   "id": "3d9c710c",
   "metadata": {},
   "outputs": [
    {
     "name": "stdout",
     "output_type": "stream",
     "text": [
      "Original shape: (105, 6)\n",
      "Cleaned shape: (105, 6)\n"
     ]
    }
   ],
   "source": [
    "#Look for duplicates\n",
    "\n",
    "Numberone_data = Number_one.drop_duplicates()\n",
    "\n",
    "# Print the shape of the cleaned DataFrame to compare\n",
    "print(\"Original shape:\", Number_one.shape)\n",
    "print(\"Cleaned shape:\", Numberone_data.shape)\n"
   ]
  },
  {
   "cell_type": "code",
   "execution_count": 88,
   "id": "de643db9",
   "metadata": {},
   "outputs": [
    {
     "name": "stdout",
     "output_type": "stream",
     "text": [
      "Original shape: (103, 5)\n",
      "Cleaned shape: (103, 5)\n"
     ]
    }
   ],
   "source": [
    "Moststreamed_data = Most_streamed.drop_duplicates()\n",
    "\n",
    "# Print the shape of the cleaned DataFrame to compare\n",
    "print(\"Original shape:\", Most_streamed.shape)\n",
    "print(\"Cleaned shape:\", Moststreamed_data.shape)\n"
   ]
  },
  {
   "cell_type": "markdown",
   "id": "6cfd0c1f",
   "metadata": {},
   "source": [
    "No duplicates in either set of data"
   ]
  },
  {
   "cell_type": "code",
   "execution_count": 89,
   "id": "0f34d346",
   "metadata": {},
   "outputs": [
    {
     "name": "stdout",
     "output_type": "stream",
     "text": [
      "Number one Statistics:\n",
      "Mean: 3.6\n",
      "Median: 2.0\n",
      "Mode: 1\n"
     ]
    }
   ],
   "source": [
    "#Look at summary statistics for 'Number one'\n",
    "Weeks_df = Number_one['Weeks']\n",
    "# Mean\n",
    "mean = Weeks_df.mean()\n",
    "# Median\n",
    "median = Weeks_df.median()\n",
    "# Mode\n",
    "mode = Weeks_df.mode().values[0]\n",
    "print(\"Number one Statistics:\")\n",
    "print(f\"Mean: {mean}\")\n",
    "print(f\"Median: {median}\")\n",
    "print(f\"Mode: {mode}\")"
   ]
  },
  {
   "cell_type": "code",
   "execution_count": 90,
   "id": "bb3bd024",
   "metadata": {},
   "outputs": [
    {
     "name": "stdout",
     "output_type": "stream",
     "text": [
      "Most Streamed Statistics:\n",
      "Mean: 2.2786407766990298\n",
      "Median: 2.116\n",
      "Mode: 2.029\n"
     ]
    }
   ],
   "source": [
    "#Look at summary statistics for 'Most streamed'\n",
    "Streams_df = Most_streamed['Streams(billions)']\n",
    "# Mean\n",
    "mean = Streams_df.mean()\n",
    "# Median\n",
    "median = Streams_df.median()\n",
    "# Mode\n",
    "mode = Streams_df.mode().values[0]\n",
    "print(\"Most Streamed Statistics:\")\n",
    "print(f\"Mean: {mean}\")\n",
    "print(f\"Median: {median}\")\n",
    "print(f\"Mode: {mode}\")"
   ]
  },
  {
   "cell_type": "code",
   "execution_count": 103,
   "id": "a7f0e454",
   "metadata": {},
   "outputs": [
    {
     "name": "stdout",
     "output_type": "stream",
     "text": [
      "                              Song                             Artist_x  \\\n",
      "0                          Starboy         The WeekndfeaturingDaft Punk   \n",
      "1                           Humble                       Kendrick Lamar   \n",
      "2                         Rockstar        Post Malonefeaturing21 Savage   \n",
      "3                         Rockstar           DaBabyfeaturingRoddy Ricch   \n",
      "4                           Havana    Camila CabellofeaturingYoung Thug   \n",
      "5                       Better Now                          Post Malone   \n",
      "6                        Sunflower         Post MalonefeaturingSwae Lee   \n",
      "7                          7 Rings                        Ariana Grande   \n",
      "8                          Bad Guy                        Billie Eilish   \n",
      "9                          Circles                          Post Malone   \n",
      "10                    Dance Monkey                          Tones and I   \n",
      "11                         The Box                          Roddy Ricch   \n",
      "12                          Dakiti        Bad BunnyfeaturingJhay Cortez   \n",
      "13  Montero (Call Me by Your Name)                            Lil Nas X   \n",
      "14                        Good 4 U                       Olivia Rodrigo   \n",
      "15                            Stay  The Kid LaroifeaturingJustin Bieber   \n",
      "16                      Heat Waves                        Glass Animals   \n",
      "\n",
      "   Release Date Issue Date  Weeks  Avs.  Rank  \\\n",
      "0     21-Sep-16  29-Dec-16      2  25.5     5   \n",
      "1     30-Mar-17  20-Apr-17      1  41.4    49   \n",
      "2     15-Sep-17  21-Sep-17     17  38.6    11   \n",
      "3     17-Apr-20  04-Jun-20      2  38.0    11   \n",
      "4     03-Aug-17  18-Jan-18      1  30.9    65   \n",
      "5     27-Apr-18  03-May-18      2  38.2    90   \n",
      "6     18-Oct-18  17-Jan-19      2  33.6     4   \n",
      "7     18-Jan-19  24-Jan-19     10  47.9    42   \n",
      "8     29-Mar-19  04-Apr-19      6  42.6    24   \n",
      "9     30-Aug-19  12-Sep-19      1  43.4    30   \n",
      "10    10-May-19  17-Oct-19      2  42.9     8   \n",
      "11    06-Dec-19  13-Feb-20      1  46.2   103   \n",
      "12    30-Oct-20  12-Nov-20      6  47.7    86   \n",
      "13    26-Mar-21  15-Apr-21      5  49.4    99   \n",
      "14    14-May-21  20-May-21      7  63.2    54   \n",
      "15    09-Jul-21  05-Aug-21     11  60.8     9   \n",
      "16    29-Jun-20  27-Jan-22     10  30.7    12   \n",
      "\n",
      "                               Artist_y  Streams(billions) ReleaseDate  \n",
      "0          The WeekndfeaturingDaft Punk              3.150   21-Sep-16  \n",
      "1                        Kendrick Lamar              2.146   30-Mar-17  \n",
      "2         Post Malonefeaturing21 Savage              2.912   15-Sep-17  \n",
      "3         Post Malonefeaturing21 Savage              2.912   15-Sep-17  \n",
      "4     Camila CabellofeaturingYoung Thug              2.029   03-Aug-17  \n",
      "5                           Post Malone              1.918   27-Apr-18  \n",
      "6          Post MalonefeaturingSwae Lee              3.241   18-Oct-18  \n",
      "7                         Ariana Grande              2.206   18-Jan-19  \n",
      "8                         Billie Eilish              2.471   29-Mar-19  \n",
      "9                           Post Malone              2.405   30-Aug-19  \n",
      "10                          Tones and I              3.021   10-May-19  \n",
      "11                          Roddy Ricch              1.857   06-Dec-19  \n",
      "12             Bad BunnyfeaturingJhayco              1.930   30-Oct-20  \n",
      "13                            Lil Nas X              1.869   26-Mar-21  \n",
      "14                       Olivia Rodrigo              2.106   14-May-21  \n",
      "15  The Kid LaroifeaturingJustin Bieber              3.011   09-Jul-21  \n",
      "16                        Glass Animals              2.903   29-Jun-20  \n"
     ]
    }
   ],
   "source": [
    "#Merge two datsets by song to see correlation with most streamed and most weeks at number one\n",
    "\n",
    "merged_df = pd.merge(Number_one, Most_streamed, on=['Song'], how='inner')\n",
    "print(merged_df)\n",
    "\n",
    "\n",
    "# Save the merged DataFrame as a CSV file\n",
    "#merged_df.to_csv('merged_data2.csv', index=False)"
   ]
  },
  {
   "cell_type": "code",
   "execution_count": 101,
   "id": "aa11adcb",
   "metadata": {},
   "outputs": [
    {
     "name": "stdout",
     "output_type": "stream",
     "text": [
      "                              Song                             Artist_x  \\\n",
      "0                          Starboy         The WeekndfeaturingDaft Punk   \n",
      "1                           Humble                       Kendrick Lamar   \n",
      "2                         Rockstar        Post Malonefeaturing21 Savage   \n",
      "3                         Rockstar           DaBabyfeaturingRoddy Ricch   \n",
      "4                           Havana    Camila CabellofeaturingYoung Thug   \n",
      "5                       Better Now                          Post Malone   \n",
      "6                        Sunflower         Post MalonefeaturingSwae Lee   \n",
      "7                          7 Rings                        Ariana Grande   \n",
      "8                          Bad Guy                        Billie Eilish   \n",
      "9                          Circles                          Post Malone   \n",
      "10                    Dance Monkey                          Tones and I   \n",
      "11                         The Box                          Roddy Ricch   \n",
      "12                          Dakiti        Bad BunnyfeaturingJhay Cortez   \n",
      "13  Montero (Call Me by Your Name)                            Lil Nas X   \n",
      "14                        Good 4 U                       Olivia Rodrigo   \n",
      "15                            Stay  The Kid LaroifeaturingJustin Bieber   \n",
      "16                      Heat Waves                        Glass Animals   \n",
      "\n",
      "   Release Date Issue Date   Weeks      Avs.  Rank  \\\n",
      "0     21-Sep-16  29-Dec-16  0.0625  0.000000     5   \n",
      "1     30-Mar-17  20-Apr-17  0.0000  0.421751    49   \n",
      "2     15-Sep-17  21-Sep-17  1.0000  0.347480    11   \n",
      "3     17-Apr-20  04-Jun-20  0.0625  0.331565    11   \n",
      "4     03-Aug-17  18-Jan-18  0.0000  0.143236    65   \n",
      "5     27-Apr-18  03-May-18  0.0625  0.336870    90   \n",
      "6     18-Oct-18  17-Jan-19  0.0625  0.214854     4   \n",
      "7     18-Jan-19  24-Jan-19  0.5625  0.594164    42   \n",
      "8     29-Mar-19  04-Apr-19  0.3125  0.453581    24   \n",
      "9     30-Aug-19  12-Sep-19  0.0000  0.474801    30   \n",
      "10    10-May-19  17-Oct-19  0.0625  0.461538     8   \n",
      "11    06-Dec-19  13-Feb-20  0.0000  0.549072   103   \n",
      "12    30-Oct-20  12-Nov-20  0.3125  0.588859    86   \n",
      "13    26-Mar-21  15-Apr-21  0.2500  0.633952    99   \n",
      "14    14-May-21  20-May-21  0.3750  1.000000    54   \n",
      "15    09-Jul-21  05-Aug-21  0.6250  0.936340     9   \n",
      "16    29-Jun-20  27-Jan-22  0.5625  0.137931    12   \n",
      "\n",
      "                               Artist_y  Streams(billions) ReleaseDate  \n",
      "0          The WeekndfeaturingDaft Punk           0.934249   21-Sep-16  \n",
      "1                        Kendrick Lamar           0.208815   30-Mar-17  \n",
      "2         Post Malonefeaturing21 Savage           0.762283   15-Sep-17  \n",
      "3         Post Malonefeaturing21 Savage           0.762283   15-Sep-17  \n",
      "4     Camila CabellofeaturingYoung Thug           0.124277   03-Aug-17  \n",
      "5                           Post Malone           0.044075   27-Apr-18  \n",
      "6          Post MalonefeaturingSwae Lee           1.000000   18-Oct-18  \n",
      "7                         Ariana Grande           0.252168   18-Jan-19  \n",
      "8                         Billie Eilish           0.443642   29-Mar-19  \n",
      "9                           Post Malone           0.395954   30-Aug-19  \n",
      "10                          Tones and I           0.841040   10-May-19  \n",
      "11                          Roddy Ricch           0.000000   06-Dec-19  \n",
      "12             Bad BunnyfeaturingJhayco           0.052746   30-Oct-20  \n",
      "13                            Lil Nas X           0.008671   26-Mar-21  \n",
      "14                       Olivia Rodrigo           0.179913   14-May-21  \n",
      "15  The Kid LaroifeaturingJustin Bieber           0.833815   09-Jul-21  \n",
      "16                        Glass Animals           0.755780   29-Jun-20  \n"
     ]
    }
   ],
   "source": [
    "from sklearn.preprocessing import MinMaxScaler\n",
    "\n",
    "merged_df_normalised = merged_df.copy()\n",
    "\n",
    "# Select columns to normalise\n",
    "columns_to_normalise = ['Weeks', 'Avs.', 'Streams(billions)']\n",
    "\n",
    "# Initialize MinMaxScaler\n",
    "scaler = MinMaxScaler()\n",
    "\n",
    "# Normalise selected columns\n",
    "merged_df_normalised[columns_to_normalise] = scaler.fit_transform(merged_df[columns_to_normalise])\n",
    "\n",
    "print(merged_df_normalised)"
   ]
  }
 ],
 "metadata": {
  "kernelspec": {
   "display_name": "Python 3 (ipykernel)",
   "language": "python",
   "name": "python3"
  },
  "language_info": {
   "codemirror_mode": {
    "name": "ipython",
    "version": 3
   },
   "file_extension": ".py",
   "mimetype": "text/x-python",
   "name": "python",
   "nbconvert_exporter": "python",
   "pygments_lexer": "ipython3",
   "version": "3.9.13"
  }
 },
 "nbformat": 4,
 "nbformat_minor": 5
}
