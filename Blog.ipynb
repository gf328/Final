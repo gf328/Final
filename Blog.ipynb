{
 "cells": [
  {
   "cell_type": "markdown",
   "id": "4cb64eb3",
   "metadata": {},
   "source": [
    "# Spotify Streams: What do we listen to?"
   ]
  },
  {
   "cell_type": "markdown",
   "id": "7548a6d9",
   "metadata": {},
   "source": [
    "# Analysing spotify streams and 'Number One' songs over the past fifteen years."
   ]
  },
  {
   "cell_type": "markdown",
   "id": "eda2d4b1",
   "metadata": {},
   "source": [
    "As one of the first platforms to offer music streaming, Spotify launched a whole new way to consume and listen to music. Launching in 2006 in Sweden, Spotify hosts over 602 million monthly active users with over 100 million songs to choose from.\n",
    "\n",
    "\n",
    "This blog aims to uncover how we have chosen to listen to music through Spotify, looking at data covering the most streamed songs since Spotifys launch and data on songs that reached number one on Spotify. "
   ]
  },
  {
   "cell_type": "markdown",
   "id": "1a96c929",
   "metadata": {},
   "source": [
    "So... why are streams important? \n",
    "Spotify pays artists based on a proportion of the number of songs they've had streamed"
   ]
  },
  {
   "cell_type": "markdown",
   "id": "3f3f55da",
   "metadata": {},
   "source": [
    "How do we listen to music?\n",
    "- breakdown of genres/artist bar chart\n",
    "- something to look at which artist is most popular\n",
    "- compare genre to artist - is most popular artist producing pop music or something else"
   ]
  },
  {
   "cell_type": "markdown",
   "id": "70c1416a",
   "metadata": {},
   "source": [
    "To start with... Who are we choosing to listen to?"
   ]
  },
  {
   "cell_type": "markdown",
   "id": "838f962f",
   "metadata": {},
   "source": [
    "Correlation between streams/number ones:\n",
    "- correlation matrix\n",
    "- bubble plot"
   ]
  },
  {
   "cell_type": "markdown",
   "id": "06a3a8d9",
   "metadata": {},
   "source": [
    "Correlation between times?\n",
    "- particular month of the year there are most number ones?"
   ]
  },
  {
   "cell_type": "markdown",
   "id": "c961a965",
   "metadata": {},
   "source": [
    "It may come as no surprise that 'Pop' music comes out as the most listened to genre "
   ]
  }
 ],
 "metadata": {
  "kernelspec": {
   "display_name": "Python 3 (ipykernel)",
   "language": "python",
   "name": "python3"
  },
  "language_info": {
   "codemirror_mode": {
    "name": "ipython",
    "version": 3
   },
   "file_extension": ".py",
   "mimetype": "text/x-python",
   "name": "python",
   "nbconvert_exporter": "python",
   "pygments_lexer": "ipython3",
   "version": "3.9.13"
  }
 },
 "nbformat": 4,
 "nbformat_minor": 5
}
