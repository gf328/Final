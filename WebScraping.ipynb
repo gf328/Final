{
 "cells": [
  {
   "cell_type": "markdown",
   "id": "236a2441",
   "metadata": {},
   "source": [
    "# Web Scraping Notebook"
   ]
  },
  {
   "cell_type": "code",
   "execution_count": 19,
   "id": "01e7862c",
   "metadata": {},
   "outputs": [
    {
     "name": "stdout",
     "output_type": "stream",
     "text": [
      "Requirement already satisfied: beautifulsoup4 in c:\\users\\grace\\anaconda3\\lib\\site-packages (4.11.1)Note: you may need to restart the kernel to use updated packages.\n",
      "\n",
      "Requirement already satisfied: soupsieve>1.2 in c:\\users\\grace\\anaconda3\\lib\\site-packages (from beautifulsoup4) (2.3.1)\n"
     ]
    }
   ],
   "source": [
    "pip install beautifulsoup4"
   ]
  },
  {
   "cell_type": "code",
   "execution_count": 45,
   "id": "ac76693c",
   "metadata": {},
   "outputs": [
    {
     "name": "stdout",
     "output_type": "stream",
     "text": [
      "Table scraped successfully!\n"
     ]
    }
   ],
   "source": [
    "from urllib import request, error\n",
    "from bs4 import BeautifulSoup\n",
    "\n",
    "site = 'https://en.wikipedia.org/wiki/List_of_Spotify_streaming_records'\n",
    "\n",
    "response = BeautifulSoup(request.urlopen(site), 'html.parser')\n",
    "\n",
    "# Find all tables on the page\n",
    "tables = response.find_all('table')\n",
    "\n",
    "# Find the table with the header \"Most-streamed songs\"\n",
    "target_table = None\n",
    "for table in tables:\n",
    "    headers = table.find_all('th')\n",
    "    for header in headers:\n",
    "        if header.text.strip() == \"Rank\":\n",
    "            target_table = table\n",
    "            break\n",
    "    if target_table:\n",
    "        break\n",
    "\n",
    "if target_table:\n",
    "    rows = target_table.find_all('tr')\n",
    "    \n",
    "    with open('Most-streamed songs.csv', 'w') as file:\n",
    "        file.write('Rank,Song,Artist,Streams(billions),ReleaseDate,Ref\\n')\n",
    "        for row in rows[1:]:  # Exclude header row\n",
    "            cells = row.find_all(['th', 'td'])\n",
    "            row_contents = [cell.get_text(strip=True) for cell in cells]\n",
    "            file.write(','.join(row_contents) + '\\n')\n",
    "    print(\"Table scraped successfully!\")\n",
    "else:\n",
    "    print(\"Table not found.\")\n"
   ]
  },
  {
   "cell_type": "code",
   "execution_count": 46,
   "id": "2435e2bb",
   "metadata": {},
   "outputs": [
    {
     "name": "stdout",
     "output_type": "stream",
     "text": [
      "Table scraped successfully!\n"
     ]
    }
   ],
   "source": [
    "from urllib import request\n",
    "from bs4 import BeautifulSoup\n",
    "\n",
    "site = 'https://en.wikipedia.org/wiki/List_of_Spotify_streaming_records'\n",
    "\n",
    "response = BeautifulSoup(request.urlopen(site), 'html.parser')\n",
    "\n",
    "# Find all tables on the page\n",
    "tables = response.find_all('table')\n",
    "\n",
    "# Look for the table containing the header \"Wks\"\n",
    "target_table = None\n",
    "for table in tables:\n",
    "    header_row = table.find('tr')\n",
    "    if header_row and \"Wks\" in header_row.text:\n",
    "        target_table = table\n",
    "        break\n",
    "\n",
    "if target_table:\n",
    "    rows = target_table.find_all('tr')\n",
    "\n",
    "    with open('List of number-one songs on Spotify.csv', 'w') as file:\n",
    "        file.write('Song,Artist,Release Date,Issue Date,Weeks,Avs.\\n')\n",
    "        for row in rows[1:]:  # Exclude header row\n",
    "            cells = row.find_all(['th', 'td'])\n",
    "            row_contents = [cell.get_text(strip=True) for cell in cells]\n",
    "            file.write(','.join(row_contents) + '\\n')\n",
    "    print(\"Table scraped successfully!\")\n",
    "else:\n",
    "    print(\"Table not found.\")\n"
   ]
  }
 ],
 "metadata": {
  "kernelspec": {
   "display_name": "Python 3 (ipykernel)",
   "language": "python",
   "name": "python3"
  },
  "language_info": {
   "codemirror_mode": {
    "name": "ipython",
    "version": 3
   },
   "file_extension": ".py",
   "mimetype": "text/x-python",
   "name": "python",
   "nbconvert_exporter": "python",
   "pygments_lexer": "ipython3",
   "version": "3.9.13"
  }
 },
 "nbformat": 4,
 "nbformat_minor": 5
}
