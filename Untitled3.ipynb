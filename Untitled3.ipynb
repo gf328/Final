{
 "cells": [
  {
   "cell_type": "markdown",
   "id": "3a1d1f81",
   "metadata": {},
   "source": [
    "# Spotify Streams: What do we listen to?"
   ]
  },
  {
   "cell_type": "markdown",
   "id": "9391a6eb",
   "metadata": {},
   "source": [
    "Analysing spotify streams and 'Number One' songs over the past fifteen years."
   ]
  },
  {
   "cell_type": "markdown",
   "id": "e924bcb2",
   "metadata": {},
   "source": [
    "As one of the first platforms to offer music streaming, Spotify launched a whole new way to consume and listen to music.\n",
    "- little bit about the history?\n"
   ]
  },
  {
   "cell_type": "markdown",
   "id": "2d7f10a2",
   "metadata": {},
   "source": [
    "How do we listen to music?\n",
    "- breakdown of genres/artist bar chart\n",
    "- something to look at which artist is most popular\n",
    "- compare genre to artist - is most popular artist producing pop music or something else"
   ]
  },
  {
   "cell_type": "markdown",
   "id": "43019164",
   "metadata": {},
   "source": [
    "Correlation between streams/number ones:\n",
    "- correlation matrix\n",
    "- bubble plot"
   ]
  },
  {
   "cell_type": "markdown",
   "id": "0520c6c8",
   "metadata": {},
   "source": []
  },
  {
   "cell_type": "markdown",
   "id": "87870805",
   "metadata": {},
   "source": [
    "It may come as no surprise that 'Pop' music comes out as the most listened to genre "
   ]
  }
 ],
 "metadata": {
  "kernelspec": {
   "display_name": "Python 3 (ipykernel)",
   "language": "python",
   "name": "python3"
  },
  "language_info": {
   "codemirror_mode": {
    "name": "ipython",
    "version": 3
   },
   "file_extension": ".py",
   "mimetype": "text/x-python",
   "name": "python",
   "nbconvert_exporter": "python",
   "pygments_lexer": "ipython3",
   "version": "3.9.13"
  }
 },
 "nbformat": 4,
 "nbformat_minor": 5
}
