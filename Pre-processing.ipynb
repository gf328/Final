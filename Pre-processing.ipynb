{
 "cells": [
  {
   "cell_type": "markdown",
   "id": "a7c65d58",
   "metadata": {},
   "source": [
    "# Pre-processing Data"
   ]
  },
  {
   "cell_type": "code",
   "execution_count": 27,
   "id": "fad2be3d",
   "metadata": {},
   "outputs": [],
   "source": [
    "#importing essential libraries\n",
    "import pandas as pd\n",
    "import numpy as np\n",
    "import csv"
   ]
  },
  {
   "cell_type": "code",
   "execution_count": 28,
   "id": "c89b51a9",
   "metadata": {},
   "outputs": [
    {
     "name": "stdout",
     "output_type": "stream",
     "text": [
      "                                         Song  \\\n",
      "0                                     Starboy   \n",
      "1                              Shape of You    \n",
      "2                                      Humble   \n",
      "3                           Despacito (remix)   \n",
      "4                                    Mi Gente   \n",
      "..                                        ...   \n",
      "100                                 Yes, And?   \n",
      "101                              La Diabla(2)   \n",
      "102                          Beautiful Things   \n",
      "103  We Can't Be Friends (Wait for Your Love)   \n",
      "104                      Beautiful Things(2)#   \n",
      "\n",
      "                                              Artist Release Date Issue Date  \\\n",
      "0                       The WeekndfeaturingDaft Punk    21-Sep-16  29-Dec-16   \n",
      "1                                         Ed Sheeran    06-Jan-17  12-Jan-17   \n",
      "2                                     Kendrick Lamar    30-Mar-17  20-Apr-17   \n",
      "3    Luis FonsifeaturingDaddy YankeeandJustin Bieber    17-Apr-17  27-Apr-17   \n",
      "4                     J BalvinfeaturingWilly William    30-Jun-17  03-Aug-17   \n",
      "..                                               ...          ...        ...   \n",
      "100                                    Ariana Grande    12-Jan-24  18-Jan-24   \n",
      "101                                             Xavi    30-Nov-23  25-Jan-24   \n",
      "102                                     Benson Boone    18-Jan-24  15-Feb-24   \n",
      "103                                    Ariana Grande    08-Mar-24  14-Mar-24   \n",
      "104                                     Benson Boone    18-Jan-24  28-Mar-24   \n",
      "\n",
      "     Weeks  Avs.  \n",
      "0        2  25.5  \n",
      "1       14  51.9  \n",
      "2        1  41.4  \n",
      "3       14  45.9  \n",
      "4        4  32.1  \n",
      "..     ...   ...  \n",
      "100      1  53.9  \n",
      "101      3  37.9  \n",
      "102      4  43.4  \n",
      "103      2  58.0  \n",
      "104      2  54.7  \n",
      "\n",
      "[105 rows x 6 columns]\n",
      "     Rank                            Song                        Artist  \\\n",
      "0       1                 Blinding Lights                    The Weeknd   \n",
      "1       2                    Shape of You                    Ed Sheeran   \n",
      "2       3               Someone You Loved                 Lewis Capaldi   \n",
      "3       4                       Sunflower  Post MalonefeaturingSwae Lee   \n",
      "4       5                         Starboy  The WeekndfeaturingDaft Punk   \n",
      "..    ...                             ...                           ...   \n",
      "98     99  Montero (Call Me by Your Name)                     Lil Nas X   \n",
      "99    100                Someone Like You                         Adele   \n",
      "100   101                         Stiches                  Shawn Mendes   \n",
      "101   102                   Before You Go                 Lewis Capaldi   \n",
      "102   103                         The Box                   Roddy Ricch   \n",
      "\n",
      "     Streams(billions) ReleaseDate        Ref  \n",
      "0                4.158   29-Nov-19     [2][3]  \n",
      "1                3.835   06-Jan-17        [4]  \n",
      "2                3.304   08-Nov-18        [5]  \n",
      "3                3.241   18-Oct-18     [6][7]  \n",
      "4                3.150   21-Sep-16     [8][3]  \n",
      "..                 ...         ...        ...  \n",
      "98               1.869   26-Mar-21  [129][94]  \n",
      "99               1.863   24-Jan-11        NaN  \n",
      "100              1.860   16-Mar-15        NaN  \n",
      "101              1.858   19-Nov-19        NaN  \n",
      "102              1.857   06-Dec-19        NaN  \n",
      "\n",
      "[103 rows x 6 columns]\n"
     ]
    }
   ],
   "source": [
    "import pandas as pd\n",
    "\n",
    "# Import datasets into workbook and name them\n",
    "Number_one = pd.read_csv(\"List of number-one songs on Spotify.csv\", encoding='latin1')\n",
    "Most_streamed = pd.read_csv(\"Most-streamed songs.csv\", encoding='latin1')\n",
    "\n",
    "print(Number_one)\n",
    "print(Most_streamed)"
   ]
  },
  {
   "cell_type": "code",
   "execution_count": 29,
   "id": "66c94466",
   "metadata": {},
   "outputs": [
    {
     "data": {
      "text/plain": [
       "Song            False\n",
       "Artist          False\n",
       "Release Date    False\n",
       "Issue Date      False\n",
       "Weeks           False\n",
       "Avs.            False\n",
       "dtype: bool"
      ]
     },
     "execution_count": 29,
     "metadata": {},
     "output_type": "execute_result"
    }
   ],
   "source": [
    "Number_one.isnull().any()"
   ]
  },
  {
   "cell_type": "markdown",
   "id": "8d551ba1",
   "metadata": {},
   "source": [
    "Unsure as to why it is detecting an extra column: 'Unnamed'. Aside from this, no missing data."
   ]
  },
  {
   "cell_type": "code",
   "execution_count": 30,
   "id": "8714a9f1",
   "metadata": {},
   "outputs": [
    {
     "data": {
      "text/plain": [
       "Rank                 False\n",
       "Song                 False\n",
       "Artist               False\n",
       "Streams(billions)    False\n",
       "ReleaseDate          False\n",
       "Ref                   True\n",
       "dtype: bool"
      ]
     },
     "execution_count": 30,
     "metadata": {},
     "output_type": "execute_result"
    }
   ],
   "source": [
    "Most_streamed.isnull().any()"
   ]
  },
  {
   "cell_type": "markdown",
   "id": "35811954",
   "metadata": {},
   "source": [
    "No missing data apart from in the 'Ref' column (which I will not be using in any of my analysis)."
   ]
  },
  {
   "cell_type": "code",
   "execution_count": 31,
   "id": "0f34d346",
   "metadata": {},
   "outputs": [
    {
     "name": "stdout",
     "output_type": "stream",
     "text": [
      "Number one Statistics:\n",
      "Mean: 3.6\n",
      "Median: 2.0\n",
      "Mode: 1\n"
     ]
    }
   ],
   "source": [
    "#Look at summary statistics for 'Number one'\n",
    "Weeks_df = Number_one['Weeks']\n",
    "# Mean\n",
    "mean = Weeks_df.mean()\n",
    "# Median\n",
    "median = Weeks_df.median()\n",
    "# Mode\n",
    "mode = Weeks_df.mode().values[0]\n",
    "print(\"Number one Statistics:\")\n",
    "print(f\"Mean: {mean}\")\n",
    "print(f\"Median: {median}\")\n",
    "print(f\"Mode: {mode}\")"
   ]
  },
  {
   "cell_type": "code",
   "execution_count": 32,
   "id": "bb3bd024",
   "metadata": {},
   "outputs": [
    {
     "name": "stdout",
     "output_type": "stream",
     "text": [
      "Most Streamed Statistics:\n",
      "Mean: 2.2786407766990298\n",
      "Median: 2.116\n",
      "Mode: 2.029\n"
     ]
    }
   ],
   "source": [
    "#Look at summary statistics for 'Most streamed'\n",
    "Streams_df = Most_streamed['Streams(billions)']\n",
    "# Mean\n",
    "mean = Streams_df.mean()\n",
    "# Median\n",
    "median = Streams_df.median()\n",
    "# Mode\n",
    "mode = Streams_df.mode().values[0]\n",
    "print(\"Most Streamed Statistics:\")\n",
    "print(f\"Mean: {mean}\")\n",
    "print(f\"Median: {median}\")\n",
    "print(f\"Mode: {mode}\")"
   ]
  },
  {
   "cell_type": "code",
   "execution_count": 33,
   "id": "a7f0e454",
   "metadata": {},
   "outputs": [
    {
     "name": "stdout",
     "output_type": "stream",
     "text": [
      "                              Song                             Artist_x  \\\n",
      "0                          Starboy         The WeekndfeaturingDaft Punk   \n",
      "1                           Humble                       Kendrick Lamar   \n",
      "2                         Rockstar        Post Malonefeaturing21 Savage   \n",
      "3                         Rockstar           DaBabyfeaturingRoddy Ricch   \n",
      "4                           Havana    Camila CabellofeaturingYoung Thug   \n",
      "5                       Better Now                          Post Malone   \n",
      "6                        Sunflower         Post MalonefeaturingSwae Lee   \n",
      "7                          7 Rings                        Ariana Grande   \n",
      "8                          Bad Guy                        Billie Eilish   \n",
      "9                          Circles                          Post Malone   \n",
      "10                    Dance Monkey                          Tones and I   \n",
      "11                         The Box                          Roddy Ricch   \n",
      "12                          Dakiti        Bad BunnyfeaturingJhay Cortez   \n",
      "13  Montero (Call Me by Your Name)                            Lil Nas X   \n",
      "14                        Good 4 U                       Olivia Rodrigo   \n",
      "15                            Stay  The Kid LaroifeaturingJustin Bieber   \n",
      "16                      Heat Waves                        Glass Animals   \n",
      "\n",
      "   Release Date Issue Date  Weeks  Avs.  Rank  \\\n",
      "0     21-Sep-16  29-Dec-16      2  25.5     5   \n",
      "1     30-Mar-17  20-Apr-17      1  41.4    49   \n",
      "2     15-Sep-17  21-Sep-17     17  38.6    11   \n",
      "3     17-Apr-20  04-Jun-20      2  38.0    11   \n",
      "4     03-Aug-17  18-Jan-18      1  30.9    65   \n",
      "5     27-Apr-18  03-May-18      2  38.2    90   \n",
      "6     18-Oct-18  17-Jan-19      2  33.6     4   \n",
      "7     18-Jan-19  24-Jan-19     10  47.9    42   \n",
      "8     29-Mar-19  04-Apr-19      6  42.6    24   \n",
      "9     30-Aug-19  12-Sep-19      1  43.4    30   \n",
      "10    10-May-19  17-Oct-19      2  42.9     8   \n",
      "11    06-Dec-19  13-Feb-20      1  46.2   103   \n",
      "12    30-Oct-20  12-Nov-20      6  47.7    86   \n",
      "13    26-Mar-21  15-Apr-21      5  49.4    99   \n",
      "14    14-May-21  20-May-21      7  63.2    54   \n",
      "15    09-Jul-21  05-Aug-21     11  60.8     9   \n",
      "16    29-Jun-20  27-Jan-22     10  30.7    12   \n",
      "\n",
      "                               Artist_y  Streams(billions) ReleaseDate  \\\n",
      "0          The WeekndfeaturingDaft Punk              3.150   21-Sep-16   \n",
      "1                        Kendrick Lamar              2.146   30-Mar-17   \n",
      "2         Post Malonefeaturing21 Savage              2.912   15-Sep-17   \n",
      "3         Post Malonefeaturing21 Savage              2.912   15-Sep-17   \n",
      "4     Camila CabellofeaturingYoung Thug              2.029   03-Aug-17   \n",
      "5                           Post Malone              1.918   27-Apr-18   \n",
      "6          Post MalonefeaturingSwae Lee              3.241   18-Oct-18   \n",
      "7                         Ariana Grande              2.206   18-Jan-19   \n",
      "8                         Billie Eilish              2.471   29-Mar-19   \n",
      "9                           Post Malone              2.405   30-Aug-19   \n",
      "10                          Tones and I              3.021   10-May-19   \n",
      "11                          Roddy Ricch              1.857   06-Dec-19   \n",
      "12             Bad BunnyfeaturingJhayco              1.930   30-Oct-20   \n",
      "13                            Lil Nas X              1.869   26-Mar-21   \n",
      "14                       Olivia Rodrigo              2.106   14-May-21   \n",
      "15  The Kid LaroifeaturingJustin Bieber              3.011   09-Jul-21   \n",
      "16                        Glass Animals              2.903   29-Jun-20   \n",
      "\n",
      "           Ref  \n",
      "0       [8][3]  \n",
      "1     [62][63]  \n",
      "2          [7]  \n",
      "3          [7]  \n",
      "4     [84][85]  \n",
      "5   [119][120]  \n",
      "6       [6][7]  \n",
      "7     [54][55]  \n",
      "8     [32][23]  \n",
      "9          [7]  \n",
      "10        [12]  \n",
      "11         NaN  \n",
      "12  [112][113]  \n",
      "13   [129][94]  \n",
      "14    [71][69]  \n",
      "15        [13]  \n",
      "16    [16][17]  \n"
     ]
    }
   ],
   "source": [
    "merged_df = pd.merge(Number_one, Most_streamed, on=['Song'], how='inner')\n",
    "print(merged_df)\n",
    "\n",
    "\n",
    "# Save the merged DataFrame as a CSV file\n",
    "#merged_df.to_csv('merged_data2.csv', index=False)"
   ]
  },
  {
   "cell_type": "code",
   "execution_count": 48,
   "id": "9ea24893",
   "metadata": {},
   "outputs": [
    {
     "data": {
      "application/vnd.plotly.v1+json": {
       "config": {
        "plotlyServerURL": "https://plot.ly"
       },
       "data": [
        {
         "hovertemplate": "<b>%{hovertext}</b><br><br>Artist_x=The WeekndfeaturingDaft Punk<br>ReleaseDate=%{x}<br>Streams(billions)=%{y}<br>Weeks=%{marker.size}<extra></extra>",
         "hovertext": [
          "Starboy"
         ],
         "legendgroup": "The WeekndfeaturingDaft Punk",
         "marker": {
          "color": "#636efa",
          "size": [
           2
          ],
          "sizemode": "area",
          "sizeref": 0.004722222222222222,
          "symbol": "circle"
         },
         "mode": "markers",
         "name": "The WeekndfeaturingDaft Punk",
         "orientation": "v",
         "showlegend": true,
         "type": "scatter",
         "x": [
          "21-Sep-16"
         ],
         "xaxis": "x",
         "y": [
          3.15
         ],
         "yaxis": "y"
        },
        {
         "hovertemplate": "<b>%{hovertext}</b><br><br>Artist_x=Kendrick Lamar<br>ReleaseDate=%{x}<br>Streams(billions)=%{y}<br>Weeks=%{marker.size}<extra></extra>",
         "hovertext": [
          "Humble"
         ],
         "legendgroup": "Kendrick Lamar",
         "marker": {
          "color": "#EF553B",
          "size": [
           1
          ],
          "sizemode": "area",
          "sizeref": 0.004722222222222222,
          "symbol": "circle"
         },
         "mode": "markers",
         "name": "Kendrick Lamar",
         "orientation": "v",
         "showlegend": true,
         "type": "scatter",
         "x": [
          "30-Mar-17"
         ],
         "xaxis": "x",
         "y": [
          2.146
         ],
         "yaxis": "y"
        },
        {
         "hovertemplate": "<b>%{hovertext}</b><br><br>Artist_x=Post Malonefeaturing21 Savage<br>ReleaseDate=%{x}<br>Streams(billions)=%{y}<br>Weeks=%{marker.size}<extra></extra>",
         "hovertext": [
          "Rockstar"
         ],
         "legendgroup": "Post Malonefeaturing21 Savage",
         "marker": {
          "color": "#00cc96",
          "size": [
           17
          ],
          "sizemode": "area",
          "sizeref": 0.004722222222222222,
          "symbol": "circle"
         },
         "mode": "markers",
         "name": "Post Malonefeaturing21 Savage",
         "orientation": "v",
         "showlegend": true,
         "type": "scatter",
         "x": [
          "15-Sep-17"
         ],
         "xaxis": "x",
         "y": [
          2.912
         ],
         "yaxis": "y"
        },
        {
         "hovertemplate": "<b>%{hovertext}</b><br><br>Artist_x=DaBabyfeaturingRoddy Ricch<br>ReleaseDate=%{x}<br>Streams(billions)=%{y}<br>Weeks=%{marker.size}<extra></extra>",
         "hovertext": [
          "Rockstar"
         ],
         "legendgroup": "DaBabyfeaturingRoddy Ricch",
         "marker": {
          "color": "#ab63fa",
          "size": [
           2
          ],
          "sizemode": "area",
          "sizeref": 0.004722222222222222,
          "symbol": "circle"
         },
         "mode": "markers",
         "name": "DaBabyfeaturingRoddy Ricch",
         "orientation": "v",
         "showlegend": true,
         "type": "scatter",
         "x": [
          "15-Sep-17"
         ],
         "xaxis": "x",
         "y": [
          2.912
         ],
         "yaxis": "y"
        },
        {
         "hovertemplate": "<b>%{hovertext}</b><br><br>Artist_x=Camila CabellofeaturingYoung Thug<br>ReleaseDate=%{x}<br>Streams(billions)=%{y}<br>Weeks=%{marker.size}<extra></extra>",
         "hovertext": [
          "Havana"
         ],
         "legendgroup": "Camila CabellofeaturingYoung Thug",
         "marker": {
          "color": "#FFA15A",
          "size": [
           1
          ],
          "sizemode": "area",
          "sizeref": 0.004722222222222222,
          "symbol": "circle"
         },
         "mode": "markers",
         "name": "Camila CabellofeaturingYoung Thug",
         "orientation": "v",
         "showlegend": true,
         "type": "scatter",
         "x": [
          "03-Aug-17"
         ],
         "xaxis": "x",
         "y": [
          2.029
         ],
         "yaxis": "y"
        },
        {
         "hovertemplate": "<b>%{hovertext}</b><br><br>Artist_x=Post Malone<br>ReleaseDate=%{x}<br>Streams(billions)=%{y}<br>Weeks=%{marker.size}<extra></extra>",
         "hovertext": [
          "Better Now",
          "Circles"
         ],
         "legendgroup": "Post Malone",
         "marker": {
          "color": "#19d3f3",
          "size": [
           2,
           1
          ],
          "sizemode": "area",
          "sizeref": 0.004722222222222222,
          "symbol": "circle"
         },
         "mode": "markers",
         "name": "Post Malone",
         "orientation": "v",
         "showlegend": true,
         "type": "scatter",
         "x": [
          "27-Apr-18",
          "30-Aug-19"
         ],
         "xaxis": "x",
         "y": [
          1.918,
          2.405
         ],
         "yaxis": "y"
        },
        {
         "hovertemplate": "<b>%{hovertext}</b><br><br>Artist_x=Post MalonefeaturingSwae Lee<br>ReleaseDate=%{x}<br>Streams(billions)=%{y}<br>Weeks=%{marker.size}<extra></extra>",
         "hovertext": [
          "Sunflower"
         ],
         "legendgroup": "Post MalonefeaturingSwae Lee",
         "marker": {
          "color": "#FF6692",
          "size": [
           2
          ],
          "sizemode": "area",
          "sizeref": 0.004722222222222222,
          "symbol": "circle"
         },
         "mode": "markers",
         "name": "Post MalonefeaturingSwae Lee",
         "orientation": "v",
         "showlegend": true,
         "type": "scatter",
         "x": [
          "18-Oct-18"
         ],
         "xaxis": "x",
         "y": [
          3.241
         ],
         "yaxis": "y"
        },
        {
         "hovertemplate": "<b>%{hovertext}</b><br><br>Artist_x=Ariana Grande<br>ReleaseDate=%{x}<br>Streams(billions)=%{y}<br>Weeks=%{marker.size}<extra></extra>",
         "hovertext": [
          "7 Rings"
         ],
         "legendgroup": "Ariana Grande",
         "marker": {
          "color": "#B6E880",
          "size": [
           10
          ],
          "sizemode": "area",
          "sizeref": 0.004722222222222222,
          "symbol": "circle"
         },
         "mode": "markers",
         "name": "Ariana Grande",
         "orientation": "v",
         "showlegend": true,
         "type": "scatter",
         "x": [
          "18-Jan-19"
         ],
         "xaxis": "x",
         "y": [
          2.206
         ],
         "yaxis": "y"
        },
        {
         "hovertemplate": "<b>%{hovertext}</b><br><br>Artist_x=Billie Eilish<br>ReleaseDate=%{x}<br>Streams(billions)=%{y}<br>Weeks=%{marker.size}<extra></extra>",
         "hovertext": [
          "Bad Guy"
         ],
         "legendgroup": "Billie Eilish",
         "marker": {
          "color": "#FF97FF",
          "size": [
           6
          ],
          "sizemode": "area",
          "sizeref": 0.004722222222222222,
          "symbol": "circle"
         },
         "mode": "markers",
         "name": "Billie Eilish",
         "orientation": "v",
         "showlegend": true,
         "type": "scatter",
         "x": [
          "29-Mar-19"
         ],
         "xaxis": "x",
         "y": [
          2.471
         ],
         "yaxis": "y"
        },
        {
         "hovertemplate": "<b>%{hovertext}</b><br><br>Artist_x=Tones and I<br>ReleaseDate=%{x}<br>Streams(billions)=%{y}<br>Weeks=%{marker.size}<extra></extra>",
         "hovertext": [
          "Dance Monkey"
         ],
         "legendgroup": "Tones and I",
         "marker": {
          "color": "#FECB52",
          "size": [
           2
          ],
          "sizemode": "area",
          "sizeref": 0.004722222222222222,
          "symbol": "circle"
         },
         "mode": "markers",
         "name": "Tones and I",
         "orientation": "v",
         "showlegend": true,
         "type": "scatter",
         "x": [
          "10-May-19"
         ],
         "xaxis": "x",
         "y": [
          3.021
         ],
         "yaxis": "y"
        },
        {
         "hovertemplate": "<b>%{hovertext}</b><br><br>Artist_x=Roddy Ricch<br>ReleaseDate=%{x}<br>Streams(billions)=%{y}<br>Weeks=%{marker.size}<extra></extra>",
         "hovertext": [
          "The Box"
         ],
         "legendgroup": "Roddy Ricch",
         "marker": {
          "color": "#636efa",
          "size": [
           1
          ],
          "sizemode": "area",
          "sizeref": 0.004722222222222222,
          "symbol": "circle"
         },
         "mode": "markers",
         "name": "Roddy Ricch",
         "orientation": "v",
         "showlegend": true,
         "type": "scatter",
         "x": [
          "06-Dec-19"
         ],
         "xaxis": "x",
         "y": [
          1.857
         ],
         "yaxis": "y"
        },
        {
         "hovertemplate": "<b>%{hovertext}</b><br><br>Artist_x=Bad BunnyfeaturingJhay Cortez<br>ReleaseDate=%{x}<br>Streams(billions)=%{y}<br>Weeks=%{marker.size}<extra></extra>",
         "hovertext": [
          "Dakiti"
         ],
         "legendgroup": "Bad BunnyfeaturingJhay Cortez",
         "marker": {
          "color": "#EF553B",
          "size": [
           6
          ],
          "sizemode": "area",
          "sizeref": 0.004722222222222222,
          "symbol": "circle"
         },
         "mode": "markers",
         "name": "Bad BunnyfeaturingJhay Cortez",
         "orientation": "v",
         "showlegend": true,
         "type": "scatter",
         "x": [
          "30-Oct-20"
         ],
         "xaxis": "x",
         "y": [
          1.93
         ],
         "yaxis": "y"
        },
        {
         "hovertemplate": "<b>%{hovertext}</b><br><br>Artist_x=Lil Nas X<br>ReleaseDate=%{x}<br>Streams(billions)=%{y}<br>Weeks=%{marker.size}<extra></extra>",
         "hovertext": [
          "Montero (Call Me by Your Name)"
         ],
         "legendgroup": "Lil Nas X",
         "marker": {
          "color": "#00cc96",
          "size": [
           5
          ],
          "sizemode": "area",
          "sizeref": 0.004722222222222222,
          "symbol": "circle"
         },
         "mode": "markers",
         "name": "Lil Nas X",
         "orientation": "v",
         "showlegend": true,
         "type": "scatter",
         "x": [
          "26-Mar-21"
         ],
         "xaxis": "x",
         "y": [
          1.869
         ],
         "yaxis": "y"
        },
        {
         "hovertemplate": "<b>%{hovertext}</b><br><br>Artist_x=Olivia Rodrigo<br>ReleaseDate=%{x}<br>Streams(billions)=%{y}<br>Weeks=%{marker.size}<extra></extra>",
         "hovertext": [
          "Good 4 U"
         ],
         "legendgroup": "Olivia Rodrigo",
         "marker": {
          "color": "#ab63fa",
          "size": [
           7
          ],
          "sizemode": "area",
          "sizeref": 0.004722222222222222,
          "symbol": "circle"
         },
         "mode": "markers",
         "name": "Olivia Rodrigo",
         "orientation": "v",
         "showlegend": true,
         "type": "scatter",
         "x": [
          "14-May-21"
         ],
         "xaxis": "x",
         "y": [
          2.106
         ],
         "yaxis": "y"
        },
        {
         "hovertemplate": "<b>%{hovertext}</b><br><br>Artist_x=The Kid LaroifeaturingJustin Bieber<br>ReleaseDate=%{x}<br>Streams(billions)=%{y}<br>Weeks=%{marker.size}<extra></extra>",
         "hovertext": [
          "Stay"
         ],
         "legendgroup": "The Kid LaroifeaturingJustin Bieber",
         "marker": {
          "color": "#FFA15A",
          "size": [
           11
          ],
          "sizemode": "area",
          "sizeref": 0.004722222222222222,
          "symbol": "circle"
         },
         "mode": "markers",
         "name": "The Kid LaroifeaturingJustin Bieber",
         "orientation": "v",
         "showlegend": true,
         "type": "scatter",
         "x": [
          "09-Jul-21"
         ],
         "xaxis": "x",
         "y": [
          3.011
         ],
         "yaxis": "y"
        },
        {
         "hovertemplate": "<b>%{hovertext}</b><br><br>Artist_x=Glass Animals<br>ReleaseDate=%{x}<br>Streams(billions)=%{y}<br>Weeks=%{marker.size}<extra></extra>",
         "hovertext": [
          "Heat Waves"
         ],
         "legendgroup": "Glass Animals",
         "marker": {
          "color": "#19d3f3",
          "size": [
           10
          ],
          "sizemode": "area",
          "sizeref": 0.004722222222222222,
          "symbol": "circle"
         },
         "mode": "markers",
         "name": "Glass Animals",
         "orientation": "v",
         "showlegend": true,
         "type": "scatter",
         "x": [
          "29-Jun-20"
         ],
         "xaxis": "x",
         "y": [
          2.903
         ],
         "yaxis": "y"
        }
       ],
       "layout": {
        "legend": {
         "itemsizing": "constant",
         "title": {
          "text": "Artist_x"
         },
         "tracegroupgap": 0
        },
        "margin": {
         "t": 60
        },
        "template": {
         "data": {
          "bar": [
           {
            "error_x": {
             "color": "#2a3f5f"
            },
            "error_y": {
             "color": "#2a3f5f"
            },
            "marker": {
             "line": {
              "color": "#E5ECF6",
              "width": 0.5
             },
             "pattern": {
              "fillmode": "overlay",
              "size": 10,
              "solidity": 0.2
             }
            },
            "type": "bar"
           }
          ],
          "barpolar": [
           {
            "marker": {
             "line": {
              "color": "#E5ECF6",
              "width": 0.5
             },
             "pattern": {
              "fillmode": "overlay",
              "size": 10,
              "solidity": 0.2
             }
            },
            "type": "barpolar"
           }
          ],
          "carpet": [
           {
            "aaxis": {
             "endlinecolor": "#2a3f5f",
             "gridcolor": "white",
             "linecolor": "white",
             "minorgridcolor": "white",
             "startlinecolor": "#2a3f5f"
            },
            "baxis": {
             "endlinecolor": "#2a3f5f",
             "gridcolor": "white",
             "linecolor": "white",
             "minorgridcolor": "white",
             "startlinecolor": "#2a3f5f"
            },
            "type": "carpet"
           }
          ],
          "choropleth": [
           {
            "colorbar": {
             "outlinewidth": 0,
             "ticks": ""
            },
            "type": "choropleth"
           }
          ],
          "contour": [
           {
            "colorbar": {
             "outlinewidth": 0,
             "ticks": ""
            },
            "colorscale": [
             [
              0,
              "#0d0887"
             ],
             [
              0.1111111111111111,
              "#46039f"
             ],
             [
              0.2222222222222222,
              "#7201a8"
             ],
             [
              0.3333333333333333,
              "#9c179e"
             ],
             [
              0.4444444444444444,
              "#bd3786"
             ],
             [
              0.5555555555555556,
              "#d8576b"
             ],
             [
              0.6666666666666666,
              "#ed7953"
             ],
             [
              0.7777777777777778,
              "#fb9f3a"
             ],
             [
              0.8888888888888888,
              "#fdca26"
             ],
             [
              1,
              "#f0f921"
             ]
            ],
            "type": "contour"
           }
          ],
          "contourcarpet": [
           {
            "colorbar": {
             "outlinewidth": 0,
             "ticks": ""
            },
            "type": "contourcarpet"
           }
          ],
          "heatmap": [
           {
            "colorbar": {
             "outlinewidth": 0,
             "ticks": ""
            },
            "colorscale": [
             [
              0,
              "#0d0887"
             ],
             [
              0.1111111111111111,
              "#46039f"
             ],
             [
              0.2222222222222222,
              "#7201a8"
             ],
             [
              0.3333333333333333,
              "#9c179e"
             ],
             [
              0.4444444444444444,
              "#bd3786"
             ],
             [
              0.5555555555555556,
              "#d8576b"
             ],
             [
              0.6666666666666666,
              "#ed7953"
             ],
             [
              0.7777777777777778,
              "#fb9f3a"
             ],
             [
              0.8888888888888888,
              "#fdca26"
             ],
             [
              1,
              "#f0f921"
             ]
            ],
            "type": "heatmap"
           }
          ],
          "heatmapgl": [
           {
            "colorbar": {
             "outlinewidth": 0,
             "ticks": ""
            },
            "colorscale": [
             [
              0,
              "#0d0887"
             ],
             [
              0.1111111111111111,
              "#46039f"
             ],
             [
              0.2222222222222222,
              "#7201a8"
             ],
             [
              0.3333333333333333,
              "#9c179e"
             ],
             [
              0.4444444444444444,
              "#bd3786"
             ],
             [
              0.5555555555555556,
              "#d8576b"
             ],
             [
              0.6666666666666666,
              "#ed7953"
             ],
             [
              0.7777777777777778,
              "#fb9f3a"
             ],
             [
              0.8888888888888888,
              "#fdca26"
             ],
             [
              1,
              "#f0f921"
             ]
            ],
            "type": "heatmapgl"
           }
          ],
          "histogram": [
           {
            "marker": {
             "pattern": {
              "fillmode": "overlay",
              "size": 10,
              "solidity": 0.2
             }
            },
            "type": "histogram"
           }
          ],
          "histogram2d": [
           {
            "colorbar": {
             "outlinewidth": 0,
             "ticks": ""
            },
            "colorscale": [
             [
              0,
              "#0d0887"
             ],
             [
              0.1111111111111111,
              "#46039f"
             ],
             [
              0.2222222222222222,
              "#7201a8"
             ],
             [
              0.3333333333333333,
              "#9c179e"
             ],
             [
              0.4444444444444444,
              "#bd3786"
             ],
             [
              0.5555555555555556,
              "#d8576b"
             ],
             [
              0.6666666666666666,
              "#ed7953"
             ],
             [
              0.7777777777777778,
              "#fb9f3a"
             ],
             [
              0.8888888888888888,
              "#fdca26"
             ],
             [
              1,
              "#f0f921"
             ]
            ],
            "type": "histogram2d"
           }
          ],
          "histogram2dcontour": [
           {
            "colorbar": {
             "outlinewidth": 0,
             "ticks": ""
            },
            "colorscale": [
             [
              0,
              "#0d0887"
             ],
             [
              0.1111111111111111,
              "#46039f"
             ],
             [
              0.2222222222222222,
              "#7201a8"
             ],
             [
              0.3333333333333333,
              "#9c179e"
             ],
             [
              0.4444444444444444,
              "#bd3786"
             ],
             [
              0.5555555555555556,
              "#d8576b"
             ],
             [
              0.6666666666666666,
              "#ed7953"
             ],
             [
              0.7777777777777778,
              "#fb9f3a"
             ],
             [
              0.8888888888888888,
              "#fdca26"
             ],
             [
              1,
              "#f0f921"
             ]
            ],
            "type": "histogram2dcontour"
           }
          ],
          "mesh3d": [
           {
            "colorbar": {
             "outlinewidth": 0,
             "ticks": ""
            },
            "type": "mesh3d"
           }
          ],
          "parcoords": [
           {
            "line": {
             "colorbar": {
              "outlinewidth": 0,
              "ticks": ""
             }
            },
            "type": "parcoords"
           }
          ],
          "pie": [
           {
            "automargin": true,
            "type": "pie"
           }
          ],
          "scatter": [
           {
            "fillpattern": {
             "fillmode": "overlay",
             "size": 10,
             "solidity": 0.2
            },
            "type": "scatter"
           }
          ],
          "scatter3d": [
           {
            "line": {
             "colorbar": {
              "outlinewidth": 0,
              "ticks": ""
             }
            },
            "marker": {
             "colorbar": {
              "outlinewidth": 0,
              "ticks": ""
             }
            },
            "type": "scatter3d"
           }
          ],
          "scattercarpet": [
           {
            "marker": {
             "colorbar": {
              "outlinewidth": 0,
              "ticks": ""
             }
            },
            "type": "scattercarpet"
           }
          ],
          "scattergeo": [
           {
            "marker": {
             "colorbar": {
              "outlinewidth": 0,
              "ticks": ""
             }
            },
            "type": "scattergeo"
           }
          ],
          "scattergl": [
           {
            "marker": {
             "colorbar": {
              "outlinewidth": 0,
              "ticks": ""
             }
            },
            "type": "scattergl"
           }
          ],
          "scattermapbox": [
           {
            "marker": {
             "colorbar": {
              "outlinewidth": 0,
              "ticks": ""
             }
            },
            "type": "scattermapbox"
           }
          ],
          "scatterpolar": [
           {
            "marker": {
             "colorbar": {
              "outlinewidth": 0,
              "ticks": ""
             }
            },
            "type": "scatterpolar"
           }
          ],
          "scatterpolargl": [
           {
            "marker": {
             "colorbar": {
              "outlinewidth": 0,
              "ticks": ""
             }
            },
            "type": "scatterpolargl"
           }
          ],
          "scatterternary": [
           {
            "marker": {
             "colorbar": {
              "outlinewidth": 0,
              "ticks": ""
             }
            },
            "type": "scatterternary"
           }
          ],
          "surface": [
           {
            "colorbar": {
             "outlinewidth": 0,
             "ticks": ""
            },
            "colorscale": [
             [
              0,
              "#0d0887"
             ],
             [
              0.1111111111111111,
              "#46039f"
             ],
             [
              0.2222222222222222,
              "#7201a8"
             ],
             [
              0.3333333333333333,
              "#9c179e"
             ],
             [
              0.4444444444444444,
              "#bd3786"
             ],
             [
              0.5555555555555556,
              "#d8576b"
             ],
             [
              0.6666666666666666,
              "#ed7953"
             ],
             [
              0.7777777777777778,
              "#fb9f3a"
             ],
             [
              0.8888888888888888,
              "#fdca26"
             ],
             [
              1,
              "#f0f921"
             ]
            ],
            "type": "surface"
           }
          ],
          "table": [
           {
            "cells": {
             "fill": {
              "color": "#EBF0F8"
             },
             "line": {
              "color": "white"
             }
            },
            "header": {
             "fill": {
              "color": "#C8D4E3"
             },
             "line": {
              "color": "white"
             }
            },
            "type": "table"
           }
          ]
         },
         "layout": {
          "annotationdefaults": {
           "arrowcolor": "#2a3f5f",
           "arrowhead": 0,
           "arrowwidth": 1
          },
          "autotypenumbers": "strict",
          "coloraxis": {
           "colorbar": {
            "outlinewidth": 0,
            "ticks": ""
           }
          },
          "colorscale": {
           "diverging": [
            [
             0,
             "#8e0152"
            ],
            [
             0.1,
             "#c51b7d"
            ],
            [
             0.2,
             "#de77ae"
            ],
            [
             0.3,
             "#f1b6da"
            ],
            [
             0.4,
             "#fde0ef"
            ],
            [
             0.5,
             "#f7f7f7"
            ],
            [
             0.6,
             "#e6f5d0"
            ],
            [
             0.7,
             "#b8e186"
            ],
            [
             0.8,
             "#7fbc41"
            ],
            [
             0.9,
             "#4d9221"
            ],
            [
             1,
             "#276419"
            ]
           ],
           "sequential": [
            [
             0,
             "#0d0887"
            ],
            [
             0.1111111111111111,
             "#46039f"
            ],
            [
             0.2222222222222222,
             "#7201a8"
            ],
            [
             0.3333333333333333,
             "#9c179e"
            ],
            [
             0.4444444444444444,
             "#bd3786"
            ],
            [
             0.5555555555555556,
             "#d8576b"
            ],
            [
             0.6666666666666666,
             "#ed7953"
            ],
            [
             0.7777777777777778,
             "#fb9f3a"
            ],
            [
             0.8888888888888888,
             "#fdca26"
            ],
            [
             1,
             "#f0f921"
            ]
           ],
           "sequentialminus": [
            [
             0,
             "#0d0887"
            ],
            [
             0.1111111111111111,
             "#46039f"
            ],
            [
             0.2222222222222222,
             "#7201a8"
            ],
            [
             0.3333333333333333,
             "#9c179e"
            ],
            [
             0.4444444444444444,
             "#bd3786"
            ],
            [
             0.5555555555555556,
             "#d8576b"
            ],
            [
             0.6666666666666666,
             "#ed7953"
            ],
            [
             0.7777777777777778,
             "#fb9f3a"
            ],
            [
             0.8888888888888888,
             "#fdca26"
            ],
            [
             1,
             "#f0f921"
            ]
           ]
          },
          "colorway": [
           "#636efa",
           "#EF553B",
           "#00cc96",
           "#ab63fa",
           "#FFA15A",
           "#19d3f3",
           "#FF6692",
           "#B6E880",
           "#FF97FF",
           "#FECB52"
          ],
          "font": {
           "color": "#2a3f5f"
          },
          "geo": {
           "bgcolor": "white",
           "lakecolor": "white",
           "landcolor": "#E5ECF6",
           "showlakes": true,
           "showland": true,
           "subunitcolor": "white"
          },
          "hoverlabel": {
           "align": "left"
          },
          "hovermode": "closest",
          "mapbox": {
           "style": "light"
          },
          "paper_bgcolor": "white",
          "plot_bgcolor": "#E5ECF6",
          "polar": {
           "angularaxis": {
            "gridcolor": "white",
            "linecolor": "white",
            "ticks": ""
           },
           "bgcolor": "#E5ECF6",
           "radialaxis": {
            "gridcolor": "white",
            "linecolor": "white",
            "ticks": ""
           }
          },
          "scene": {
           "xaxis": {
            "backgroundcolor": "#E5ECF6",
            "gridcolor": "white",
            "gridwidth": 2,
            "linecolor": "white",
            "showbackground": true,
            "ticks": "",
            "zerolinecolor": "white"
           },
           "yaxis": {
            "backgroundcolor": "#E5ECF6",
            "gridcolor": "white",
            "gridwidth": 2,
            "linecolor": "white",
            "showbackground": true,
            "ticks": "",
            "zerolinecolor": "white"
           },
           "zaxis": {
            "backgroundcolor": "#E5ECF6",
            "gridcolor": "white",
            "gridwidth": 2,
            "linecolor": "white",
            "showbackground": true,
            "ticks": "",
            "zerolinecolor": "white"
           }
          },
          "shapedefaults": {
           "line": {
            "color": "#2a3f5f"
           }
          },
          "ternary": {
           "aaxis": {
            "gridcolor": "white",
            "linecolor": "white",
            "ticks": ""
           },
           "baxis": {
            "gridcolor": "white",
            "linecolor": "white",
            "ticks": ""
           },
           "bgcolor": "#E5ECF6",
           "caxis": {
            "gridcolor": "white",
            "linecolor": "white",
            "ticks": ""
           }
          },
          "title": {
           "x": 0.05
          },
          "xaxis": {
           "automargin": true,
           "gridcolor": "white",
           "linecolor": "white",
           "ticks": "",
           "title": {
            "standoff": 15
           },
           "zerolinecolor": "white",
           "zerolinewidth": 2
          },
          "yaxis": {
           "automargin": true,
           "gridcolor": "white",
           "linecolor": "white",
           "ticks": "",
           "title": {
            "standoff": 15
           },
           "zerolinecolor": "white",
           "zerolinewidth": 2
          }
         }
        },
        "xaxis": {
         "anchor": "y",
         "domain": [
          0,
          1
         ],
         "title": {
          "text": "ReleaseDate"
         }
        },
        "yaxis": {
         "anchor": "x",
         "domain": [
          0,
          1
         ],
         "title": {
          "text": "Streams(billions)"
         }
        }
       }
      },
      "text/html": [
       "<div>                            <div id=\"8a513512-c0a0-4c8a-b1d1-b140bcf041fc\" class=\"plotly-graph-div\" style=\"height:525px; width:100%;\"></div>            <script type=\"text/javascript\">                require([\"plotly\"], function(Plotly) {                    window.PLOTLYENV=window.PLOTLYENV || {};                                    if (document.getElementById(\"8a513512-c0a0-4c8a-b1d1-b140bcf041fc\")) {                    Plotly.newPlot(                        \"8a513512-c0a0-4c8a-b1d1-b140bcf041fc\",                        [{\"hovertemplate\":\"\\u003cb\\u003e%{hovertext}\\u003c\\u002fb\\u003e\\u003cbr\\u003e\\u003cbr\\u003eArtist_x=The WeekndfeaturingDaft Punk\\u003cbr\\u003eReleaseDate=%{x}\\u003cbr\\u003eStreams(billions)=%{y}\\u003cbr\\u003eWeeks=%{marker.size}\\u003cextra\\u003e\\u003c\\u002fextra\\u003e\",\"hovertext\":[\"Starboy\"],\"legendgroup\":\"The WeekndfeaturingDaft Punk\",\"marker\":{\"color\":\"#636efa\",\"size\":[2],\"sizemode\":\"area\",\"sizeref\":0.004722222222222222,\"symbol\":\"circle\"},\"mode\":\"markers\",\"name\":\"The WeekndfeaturingDaft Punk\",\"orientation\":\"v\",\"showlegend\":true,\"x\":[\"21-Sep-16\"],\"xaxis\":\"x\",\"y\":[3.15],\"yaxis\":\"y\",\"type\":\"scatter\"},{\"hovertemplate\":\"\\u003cb\\u003e%{hovertext}\\u003c\\u002fb\\u003e\\u003cbr\\u003e\\u003cbr\\u003eArtist_x=Kendrick Lamar\\u003cbr\\u003eReleaseDate=%{x}\\u003cbr\\u003eStreams(billions)=%{y}\\u003cbr\\u003eWeeks=%{marker.size}\\u003cextra\\u003e\\u003c\\u002fextra\\u003e\",\"hovertext\":[\"Humble\"],\"legendgroup\":\"Kendrick Lamar\",\"marker\":{\"color\":\"#EF553B\",\"size\":[1],\"sizemode\":\"area\",\"sizeref\":0.004722222222222222,\"symbol\":\"circle\"},\"mode\":\"markers\",\"name\":\"Kendrick Lamar\",\"orientation\":\"v\",\"showlegend\":true,\"x\":[\"30-Mar-17\"],\"xaxis\":\"x\",\"y\":[2.146],\"yaxis\":\"y\",\"type\":\"scatter\"},{\"hovertemplate\":\"\\u003cb\\u003e%{hovertext}\\u003c\\u002fb\\u003e\\u003cbr\\u003e\\u003cbr\\u003eArtist_x=Post Malonefeaturing21 Savage\\u003cbr\\u003eReleaseDate=%{x}\\u003cbr\\u003eStreams(billions)=%{y}\\u003cbr\\u003eWeeks=%{marker.size}\\u003cextra\\u003e\\u003c\\u002fextra\\u003e\",\"hovertext\":[\"Rockstar\"],\"legendgroup\":\"Post Malonefeaturing21 Savage\",\"marker\":{\"color\":\"#00cc96\",\"size\":[17],\"sizemode\":\"area\",\"sizeref\":0.004722222222222222,\"symbol\":\"circle\"},\"mode\":\"markers\",\"name\":\"Post Malonefeaturing21 Savage\",\"orientation\":\"v\",\"showlegend\":true,\"x\":[\"15-Sep-17\"],\"xaxis\":\"x\",\"y\":[2.912],\"yaxis\":\"y\",\"type\":\"scatter\"},{\"hovertemplate\":\"\\u003cb\\u003e%{hovertext}\\u003c\\u002fb\\u003e\\u003cbr\\u003e\\u003cbr\\u003eArtist_x=DaBabyfeaturingRoddy Ricch\\u003cbr\\u003eReleaseDate=%{x}\\u003cbr\\u003eStreams(billions)=%{y}\\u003cbr\\u003eWeeks=%{marker.size}\\u003cextra\\u003e\\u003c\\u002fextra\\u003e\",\"hovertext\":[\"Rockstar\"],\"legendgroup\":\"DaBabyfeaturingRoddy Ricch\",\"marker\":{\"color\":\"#ab63fa\",\"size\":[2],\"sizemode\":\"area\",\"sizeref\":0.004722222222222222,\"symbol\":\"circle\"},\"mode\":\"markers\",\"name\":\"DaBabyfeaturingRoddy Ricch\",\"orientation\":\"v\",\"showlegend\":true,\"x\":[\"15-Sep-17\"],\"xaxis\":\"x\",\"y\":[2.912],\"yaxis\":\"y\",\"type\":\"scatter\"},{\"hovertemplate\":\"\\u003cb\\u003e%{hovertext}\\u003c\\u002fb\\u003e\\u003cbr\\u003e\\u003cbr\\u003eArtist_x=Camila CabellofeaturingYoung Thug\\u003cbr\\u003eReleaseDate=%{x}\\u003cbr\\u003eStreams(billions)=%{y}\\u003cbr\\u003eWeeks=%{marker.size}\\u003cextra\\u003e\\u003c\\u002fextra\\u003e\",\"hovertext\":[\"Havana\"],\"legendgroup\":\"Camila CabellofeaturingYoung Thug\",\"marker\":{\"color\":\"#FFA15A\",\"size\":[1],\"sizemode\":\"area\",\"sizeref\":0.004722222222222222,\"symbol\":\"circle\"},\"mode\":\"markers\",\"name\":\"Camila CabellofeaturingYoung Thug\",\"orientation\":\"v\",\"showlegend\":true,\"x\":[\"03-Aug-17\"],\"xaxis\":\"x\",\"y\":[2.029],\"yaxis\":\"y\",\"type\":\"scatter\"},{\"hovertemplate\":\"\\u003cb\\u003e%{hovertext}\\u003c\\u002fb\\u003e\\u003cbr\\u003e\\u003cbr\\u003eArtist_x=Post Malone\\u003cbr\\u003eReleaseDate=%{x}\\u003cbr\\u003eStreams(billions)=%{y}\\u003cbr\\u003eWeeks=%{marker.size}\\u003cextra\\u003e\\u003c\\u002fextra\\u003e\",\"hovertext\":[\"Better Now\",\"Circles\"],\"legendgroup\":\"Post Malone\",\"marker\":{\"color\":\"#19d3f3\",\"size\":[2,1],\"sizemode\":\"area\",\"sizeref\":0.004722222222222222,\"symbol\":\"circle\"},\"mode\":\"markers\",\"name\":\"Post Malone\",\"orientation\":\"v\",\"showlegend\":true,\"x\":[\"27-Apr-18\",\"30-Aug-19\"],\"xaxis\":\"x\",\"y\":[1.918,2.405],\"yaxis\":\"y\",\"type\":\"scatter\"},{\"hovertemplate\":\"\\u003cb\\u003e%{hovertext}\\u003c\\u002fb\\u003e\\u003cbr\\u003e\\u003cbr\\u003eArtist_x=Post MalonefeaturingSwae Lee\\u003cbr\\u003eReleaseDate=%{x}\\u003cbr\\u003eStreams(billions)=%{y}\\u003cbr\\u003eWeeks=%{marker.size}\\u003cextra\\u003e\\u003c\\u002fextra\\u003e\",\"hovertext\":[\"Sunflower\"],\"legendgroup\":\"Post MalonefeaturingSwae Lee\",\"marker\":{\"color\":\"#FF6692\",\"size\":[2],\"sizemode\":\"area\",\"sizeref\":0.004722222222222222,\"symbol\":\"circle\"},\"mode\":\"markers\",\"name\":\"Post MalonefeaturingSwae Lee\",\"orientation\":\"v\",\"showlegend\":true,\"x\":[\"18-Oct-18\"],\"xaxis\":\"x\",\"y\":[3.241],\"yaxis\":\"y\",\"type\":\"scatter\"},{\"hovertemplate\":\"\\u003cb\\u003e%{hovertext}\\u003c\\u002fb\\u003e\\u003cbr\\u003e\\u003cbr\\u003eArtist_x=Ariana Grande\\u003cbr\\u003eReleaseDate=%{x}\\u003cbr\\u003eStreams(billions)=%{y}\\u003cbr\\u003eWeeks=%{marker.size}\\u003cextra\\u003e\\u003c\\u002fextra\\u003e\",\"hovertext\":[\"7 Rings\"],\"legendgroup\":\"Ariana Grande\",\"marker\":{\"color\":\"#B6E880\",\"size\":[10],\"sizemode\":\"area\",\"sizeref\":0.004722222222222222,\"symbol\":\"circle\"},\"mode\":\"markers\",\"name\":\"Ariana Grande\",\"orientation\":\"v\",\"showlegend\":true,\"x\":[\"18-Jan-19\"],\"xaxis\":\"x\",\"y\":[2.206],\"yaxis\":\"y\",\"type\":\"scatter\"},{\"hovertemplate\":\"\\u003cb\\u003e%{hovertext}\\u003c\\u002fb\\u003e\\u003cbr\\u003e\\u003cbr\\u003eArtist_x=Billie Eilish\\u003cbr\\u003eReleaseDate=%{x}\\u003cbr\\u003eStreams(billions)=%{y}\\u003cbr\\u003eWeeks=%{marker.size}\\u003cextra\\u003e\\u003c\\u002fextra\\u003e\",\"hovertext\":[\"Bad Guy\"],\"legendgroup\":\"Billie Eilish\",\"marker\":{\"color\":\"#FF97FF\",\"size\":[6],\"sizemode\":\"area\",\"sizeref\":0.004722222222222222,\"symbol\":\"circle\"},\"mode\":\"markers\",\"name\":\"Billie Eilish\",\"orientation\":\"v\",\"showlegend\":true,\"x\":[\"29-Mar-19\"],\"xaxis\":\"x\",\"y\":[2.471],\"yaxis\":\"y\",\"type\":\"scatter\"},{\"hovertemplate\":\"\\u003cb\\u003e%{hovertext}\\u003c\\u002fb\\u003e\\u003cbr\\u003e\\u003cbr\\u003eArtist_x=Tones and I\\u003cbr\\u003eReleaseDate=%{x}\\u003cbr\\u003eStreams(billions)=%{y}\\u003cbr\\u003eWeeks=%{marker.size}\\u003cextra\\u003e\\u003c\\u002fextra\\u003e\",\"hovertext\":[\"Dance Monkey\"],\"legendgroup\":\"Tones and I\",\"marker\":{\"color\":\"#FECB52\",\"size\":[2],\"sizemode\":\"area\",\"sizeref\":0.004722222222222222,\"symbol\":\"circle\"},\"mode\":\"markers\",\"name\":\"Tones and I\",\"orientation\":\"v\",\"showlegend\":true,\"x\":[\"10-May-19\"],\"xaxis\":\"x\",\"y\":[3.021],\"yaxis\":\"y\",\"type\":\"scatter\"},{\"hovertemplate\":\"\\u003cb\\u003e%{hovertext}\\u003c\\u002fb\\u003e\\u003cbr\\u003e\\u003cbr\\u003eArtist_x=Roddy Ricch\\u003cbr\\u003eReleaseDate=%{x}\\u003cbr\\u003eStreams(billions)=%{y}\\u003cbr\\u003eWeeks=%{marker.size}\\u003cextra\\u003e\\u003c\\u002fextra\\u003e\",\"hovertext\":[\"The Box\"],\"legendgroup\":\"Roddy Ricch\",\"marker\":{\"color\":\"#636efa\",\"size\":[1],\"sizemode\":\"area\",\"sizeref\":0.004722222222222222,\"symbol\":\"circle\"},\"mode\":\"markers\",\"name\":\"Roddy Ricch\",\"orientation\":\"v\",\"showlegend\":true,\"x\":[\"06-Dec-19\"],\"xaxis\":\"x\",\"y\":[1.857],\"yaxis\":\"y\",\"type\":\"scatter\"},{\"hovertemplate\":\"\\u003cb\\u003e%{hovertext}\\u003c\\u002fb\\u003e\\u003cbr\\u003e\\u003cbr\\u003eArtist_x=Bad BunnyfeaturingJhay Cortez\\u003cbr\\u003eReleaseDate=%{x}\\u003cbr\\u003eStreams(billions)=%{y}\\u003cbr\\u003eWeeks=%{marker.size}\\u003cextra\\u003e\\u003c\\u002fextra\\u003e\",\"hovertext\":[\"Dakiti\"],\"legendgroup\":\"Bad BunnyfeaturingJhay Cortez\",\"marker\":{\"color\":\"#EF553B\",\"size\":[6],\"sizemode\":\"area\",\"sizeref\":0.004722222222222222,\"symbol\":\"circle\"},\"mode\":\"markers\",\"name\":\"Bad BunnyfeaturingJhay Cortez\",\"orientation\":\"v\",\"showlegend\":true,\"x\":[\"30-Oct-20\"],\"xaxis\":\"x\",\"y\":[1.93],\"yaxis\":\"y\",\"type\":\"scatter\"},{\"hovertemplate\":\"\\u003cb\\u003e%{hovertext}\\u003c\\u002fb\\u003e\\u003cbr\\u003e\\u003cbr\\u003eArtist_x=Lil Nas X\\u003cbr\\u003eReleaseDate=%{x}\\u003cbr\\u003eStreams(billions)=%{y}\\u003cbr\\u003eWeeks=%{marker.size}\\u003cextra\\u003e\\u003c\\u002fextra\\u003e\",\"hovertext\":[\"Montero (Call Me by Your Name)\"],\"legendgroup\":\"Lil Nas X\",\"marker\":{\"color\":\"#00cc96\",\"size\":[5],\"sizemode\":\"area\",\"sizeref\":0.004722222222222222,\"symbol\":\"circle\"},\"mode\":\"markers\",\"name\":\"Lil Nas X\",\"orientation\":\"v\",\"showlegend\":true,\"x\":[\"26-Mar-21\"],\"xaxis\":\"x\",\"y\":[1.869],\"yaxis\":\"y\",\"type\":\"scatter\"},{\"hovertemplate\":\"\\u003cb\\u003e%{hovertext}\\u003c\\u002fb\\u003e\\u003cbr\\u003e\\u003cbr\\u003eArtist_x=Olivia Rodrigo\\u003cbr\\u003eReleaseDate=%{x}\\u003cbr\\u003eStreams(billions)=%{y}\\u003cbr\\u003eWeeks=%{marker.size}\\u003cextra\\u003e\\u003c\\u002fextra\\u003e\",\"hovertext\":[\"Good 4 U\"],\"legendgroup\":\"Olivia Rodrigo\",\"marker\":{\"color\":\"#ab63fa\",\"size\":[7],\"sizemode\":\"area\",\"sizeref\":0.004722222222222222,\"symbol\":\"circle\"},\"mode\":\"markers\",\"name\":\"Olivia Rodrigo\",\"orientation\":\"v\",\"showlegend\":true,\"x\":[\"14-May-21\"],\"xaxis\":\"x\",\"y\":[2.106],\"yaxis\":\"y\",\"type\":\"scatter\"},{\"hovertemplate\":\"\\u003cb\\u003e%{hovertext}\\u003c\\u002fb\\u003e\\u003cbr\\u003e\\u003cbr\\u003eArtist_x=The Kid LaroifeaturingJustin Bieber\\u003cbr\\u003eReleaseDate=%{x}\\u003cbr\\u003eStreams(billions)=%{y}\\u003cbr\\u003eWeeks=%{marker.size}\\u003cextra\\u003e\\u003c\\u002fextra\\u003e\",\"hovertext\":[\"Stay\"],\"legendgroup\":\"The Kid LaroifeaturingJustin Bieber\",\"marker\":{\"color\":\"#FFA15A\",\"size\":[11],\"sizemode\":\"area\",\"sizeref\":0.004722222222222222,\"symbol\":\"circle\"},\"mode\":\"markers\",\"name\":\"The Kid LaroifeaturingJustin Bieber\",\"orientation\":\"v\",\"showlegend\":true,\"x\":[\"09-Jul-21\"],\"xaxis\":\"x\",\"y\":[3.011],\"yaxis\":\"y\",\"type\":\"scatter\"},{\"hovertemplate\":\"\\u003cb\\u003e%{hovertext}\\u003c\\u002fb\\u003e\\u003cbr\\u003e\\u003cbr\\u003eArtist_x=Glass Animals\\u003cbr\\u003eReleaseDate=%{x}\\u003cbr\\u003eStreams(billions)=%{y}\\u003cbr\\u003eWeeks=%{marker.size}\\u003cextra\\u003e\\u003c\\u002fextra\\u003e\",\"hovertext\":[\"Heat Waves\"],\"legendgroup\":\"Glass Animals\",\"marker\":{\"color\":\"#19d3f3\",\"size\":[10],\"sizemode\":\"area\",\"sizeref\":0.004722222222222222,\"symbol\":\"circle\"},\"mode\":\"markers\",\"name\":\"Glass Animals\",\"orientation\":\"v\",\"showlegend\":true,\"x\":[\"29-Jun-20\"],\"xaxis\":\"x\",\"y\":[2.903],\"yaxis\":\"y\",\"type\":\"scatter\"}],                        {\"template\":{\"data\":{\"histogram2dcontour\":[{\"type\":\"histogram2dcontour\",\"colorbar\":{\"outlinewidth\":0,\"ticks\":\"\"},\"colorscale\":[[0.0,\"#0d0887\"],[0.1111111111111111,\"#46039f\"],[0.2222222222222222,\"#7201a8\"],[0.3333333333333333,\"#9c179e\"],[0.4444444444444444,\"#bd3786\"],[0.5555555555555556,\"#d8576b\"],[0.6666666666666666,\"#ed7953\"],[0.7777777777777778,\"#fb9f3a\"],[0.8888888888888888,\"#fdca26\"],[1.0,\"#f0f921\"]]}],\"choropleth\":[{\"type\":\"choropleth\",\"colorbar\":{\"outlinewidth\":0,\"ticks\":\"\"}}],\"histogram2d\":[{\"type\":\"histogram2d\",\"colorbar\":{\"outlinewidth\":0,\"ticks\":\"\"},\"colorscale\":[[0.0,\"#0d0887\"],[0.1111111111111111,\"#46039f\"],[0.2222222222222222,\"#7201a8\"],[0.3333333333333333,\"#9c179e\"],[0.4444444444444444,\"#bd3786\"],[0.5555555555555556,\"#d8576b\"],[0.6666666666666666,\"#ed7953\"],[0.7777777777777778,\"#fb9f3a\"],[0.8888888888888888,\"#fdca26\"],[1.0,\"#f0f921\"]]}],\"heatmap\":[{\"type\":\"heatmap\",\"colorbar\":{\"outlinewidth\":0,\"ticks\":\"\"},\"colorscale\":[[0.0,\"#0d0887\"],[0.1111111111111111,\"#46039f\"],[0.2222222222222222,\"#7201a8\"],[0.3333333333333333,\"#9c179e\"],[0.4444444444444444,\"#bd3786\"],[0.5555555555555556,\"#d8576b\"],[0.6666666666666666,\"#ed7953\"],[0.7777777777777778,\"#fb9f3a\"],[0.8888888888888888,\"#fdca26\"],[1.0,\"#f0f921\"]]}],\"heatmapgl\":[{\"type\":\"heatmapgl\",\"colorbar\":{\"outlinewidth\":0,\"ticks\":\"\"},\"colorscale\":[[0.0,\"#0d0887\"],[0.1111111111111111,\"#46039f\"],[0.2222222222222222,\"#7201a8\"],[0.3333333333333333,\"#9c179e\"],[0.4444444444444444,\"#bd3786\"],[0.5555555555555556,\"#d8576b\"],[0.6666666666666666,\"#ed7953\"],[0.7777777777777778,\"#fb9f3a\"],[0.8888888888888888,\"#fdca26\"],[1.0,\"#f0f921\"]]}],\"contourcarpet\":[{\"type\":\"contourcarpet\",\"colorbar\":{\"outlinewidth\":0,\"ticks\":\"\"}}],\"contour\":[{\"type\":\"contour\",\"colorbar\":{\"outlinewidth\":0,\"ticks\":\"\"},\"colorscale\":[[0.0,\"#0d0887\"],[0.1111111111111111,\"#46039f\"],[0.2222222222222222,\"#7201a8\"],[0.3333333333333333,\"#9c179e\"],[0.4444444444444444,\"#bd3786\"],[0.5555555555555556,\"#d8576b\"],[0.6666666666666666,\"#ed7953\"],[0.7777777777777778,\"#fb9f3a\"],[0.8888888888888888,\"#fdca26\"],[1.0,\"#f0f921\"]]}],\"surface\":[{\"type\":\"surface\",\"colorbar\":{\"outlinewidth\":0,\"ticks\":\"\"},\"colorscale\":[[0.0,\"#0d0887\"],[0.1111111111111111,\"#46039f\"],[0.2222222222222222,\"#7201a8\"],[0.3333333333333333,\"#9c179e\"],[0.4444444444444444,\"#bd3786\"],[0.5555555555555556,\"#d8576b\"],[0.6666666666666666,\"#ed7953\"],[0.7777777777777778,\"#fb9f3a\"],[0.8888888888888888,\"#fdca26\"],[1.0,\"#f0f921\"]]}],\"mesh3d\":[{\"type\":\"mesh3d\",\"colorbar\":{\"outlinewidth\":0,\"ticks\":\"\"}}],\"scatter\":[{\"fillpattern\":{\"fillmode\":\"overlay\",\"size\":10,\"solidity\":0.2},\"type\":\"scatter\"}],\"parcoords\":[{\"type\":\"parcoords\",\"line\":{\"colorbar\":{\"outlinewidth\":0,\"ticks\":\"\"}}}],\"scatterpolargl\":[{\"type\":\"scatterpolargl\",\"marker\":{\"colorbar\":{\"outlinewidth\":0,\"ticks\":\"\"}}}],\"bar\":[{\"error_x\":{\"color\":\"#2a3f5f\"},\"error_y\":{\"color\":\"#2a3f5f\"},\"marker\":{\"line\":{\"color\":\"#E5ECF6\",\"width\":0.5},\"pattern\":{\"fillmode\":\"overlay\",\"size\":10,\"solidity\":0.2}},\"type\":\"bar\"}],\"scattergeo\":[{\"type\":\"scattergeo\",\"marker\":{\"colorbar\":{\"outlinewidth\":0,\"ticks\":\"\"}}}],\"scatterpolar\":[{\"type\":\"scatterpolar\",\"marker\":{\"colorbar\":{\"outlinewidth\":0,\"ticks\":\"\"}}}],\"histogram\":[{\"marker\":{\"pattern\":{\"fillmode\":\"overlay\",\"size\":10,\"solidity\":0.2}},\"type\":\"histogram\"}],\"scattergl\":[{\"type\":\"scattergl\",\"marker\":{\"colorbar\":{\"outlinewidth\":0,\"ticks\":\"\"}}}],\"scatter3d\":[{\"type\":\"scatter3d\",\"line\":{\"colorbar\":{\"outlinewidth\":0,\"ticks\":\"\"}},\"marker\":{\"colorbar\":{\"outlinewidth\":0,\"ticks\":\"\"}}}],\"scattermapbox\":[{\"type\":\"scattermapbox\",\"marker\":{\"colorbar\":{\"outlinewidth\":0,\"ticks\":\"\"}}}],\"scatterternary\":[{\"type\":\"scatterternary\",\"marker\":{\"colorbar\":{\"outlinewidth\":0,\"ticks\":\"\"}}}],\"scattercarpet\":[{\"type\":\"scattercarpet\",\"marker\":{\"colorbar\":{\"outlinewidth\":0,\"ticks\":\"\"}}}],\"carpet\":[{\"aaxis\":{\"endlinecolor\":\"#2a3f5f\",\"gridcolor\":\"white\",\"linecolor\":\"white\",\"minorgridcolor\":\"white\",\"startlinecolor\":\"#2a3f5f\"},\"baxis\":{\"endlinecolor\":\"#2a3f5f\",\"gridcolor\":\"white\",\"linecolor\":\"white\",\"minorgridcolor\":\"white\",\"startlinecolor\":\"#2a3f5f\"},\"type\":\"carpet\"}],\"table\":[{\"cells\":{\"fill\":{\"color\":\"#EBF0F8\"},\"line\":{\"color\":\"white\"}},\"header\":{\"fill\":{\"color\":\"#C8D4E3\"},\"line\":{\"color\":\"white\"}},\"type\":\"table\"}],\"barpolar\":[{\"marker\":{\"line\":{\"color\":\"#E5ECF6\",\"width\":0.5},\"pattern\":{\"fillmode\":\"overlay\",\"size\":10,\"solidity\":0.2}},\"type\":\"barpolar\"}],\"pie\":[{\"automargin\":true,\"type\":\"pie\"}]},\"layout\":{\"autotypenumbers\":\"strict\",\"colorway\":[\"#636efa\",\"#EF553B\",\"#00cc96\",\"#ab63fa\",\"#FFA15A\",\"#19d3f3\",\"#FF6692\",\"#B6E880\",\"#FF97FF\",\"#FECB52\"],\"font\":{\"color\":\"#2a3f5f\"},\"hovermode\":\"closest\",\"hoverlabel\":{\"align\":\"left\"},\"paper_bgcolor\":\"white\",\"plot_bgcolor\":\"#E5ECF6\",\"polar\":{\"bgcolor\":\"#E5ECF6\",\"angularaxis\":{\"gridcolor\":\"white\",\"linecolor\":\"white\",\"ticks\":\"\"},\"radialaxis\":{\"gridcolor\":\"white\",\"linecolor\":\"white\",\"ticks\":\"\"}},\"ternary\":{\"bgcolor\":\"#E5ECF6\",\"aaxis\":{\"gridcolor\":\"white\",\"linecolor\":\"white\",\"ticks\":\"\"},\"baxis\":{\"gridcolor\":\"white\",\"linecolor\":\"white\",\"ticks\":\"\"},\"caxis\":{\"gridcolor\":\"white\",\"linecolor\":\"white\",\"ticks\":\"\"}},\"coloraxis\":{\"colorbar\":{\"outlinewidth\":0,\"ticks\":\"\"}},\"colorscale\":{\"sequential\":[[0.0,\"#0d0887\"],[0.1111111111111111,\"#46039f\"],[0.2222222222222222,\"#7201a8\"],[0.3333333333333333,\"#9c179e\"],[0.4444444444444444,\"#bd3786\"],[0.5555555555555556,\"#d8576b\"],[0.6666666666666666,\"#ed7953\"],[0.7777777777777778,\"#fb9f3a\"],[0.8888888888888888,\"#fdca26\"],[1.0,\"#f0f921\"]],\"sequentialminus\":[[0.0,\"#0d0887\"],[0.1111111111111111,\"#46039f\"],[0.2222222222222222,\"#7201a8\"],[0.3333333333333333,\"#9c179e\"],[0.4444444444444444,\"#bd3786\"],[0.5555555555555556,\"#d8576b\"],[0.6666666666666666,\"#ed7953\"],[0.7777777777777778,\"#fb9f3a\"],[0.8888888888888888,\"#fdca26\"],[1.0,\"#f0f921\"]],\"diverging\":[[0,\"#8e0152\"],[0.1,\"#c51b7d\"],[0.2,\"#de77ae\"],[0.3,\"#f1b6da\"],[0.4,\"#fde0ef\"],[0.5,\"#f7f7f7\"],[0.6,\"#e6f5d0\"],[0.7,\"#b8e186\"],[0.8,\"#7fbc41\"],[0.9,\"#4d9221\"],[1,\"#276419\"]]},\"xaxis\":{\"gridcolor\":\"white\",\"linecolor\":\"white\",\"ticks\":\"\",\"title\":{\"standoff\":15},\"zerolinecolor\":\"white\",\"automargin\":true,\"zerolinewidth\":2},\"yaxis\":{\"gridcolor\":\"white\",\"linecolor\":\"white\",\"ticks\":\"\",\"title\":{\"standoff\":15},\"zerolinecolor\":\"white\",\"automargin\":true,\"zerolinewidth\":2},\"scene\":{\"xaxis\":{\"backgroundcolor\":\"#E5ECF6\",\"gridcolor\":\"white\",\"linecolor\":\"white\",\"showbackground\":true,\"ticks\":\"\",\"zerolinecolor\":\"white\",\"gridwidth\":2},\"yaxis\":{\"backgroundcolor\":\"#E5ECF6\",\"gridcolor\":\"white\",\"linecolor\":\"white\",\"showbackground\":true,\"ticks\":\"\",\"zerolinecolor\":\"white\",\"gridwidth\":2},\"zaxis\":{\"backgroundcolor\":\"#E5ECF6\",\"gridcolor\":\"white\",\"linecolor\":\"white\",\"showbackground\":true,\"ticks\":\"\",\"zerolinecolor\":\"white\",\"gridwidth\":2}},\"shapedefaults\":{\"line\":{\"color\":\"#2a3f5f\"}},\"annotationdefaults\":{\"arrowcolor\":\"#2a3f5f\",\"arrowhead\":0,\"arrowwidth\":1},\"geo\":{\"bgcolor\":\"white\",\"landcolor\":\"#E5ECF6\",\"subunitcolor\":\"white\",\"showland\":true,\"showlakes\":true,\"lakecolor\":\"white\"},\"title\":{\"x\":0.05},\"mapbox\":{\"style\":\"light\"}}},\"xaxis\":{\"anchor\":\"y\",\"domain\":[0.0,1.0],\"title\":{\"text\":\"ReleaseDate\"}},\"yaxis\":{\"anchor\":\"x\",\"domain\":[0.0,1.0],\"title\":{\"text\":\"Streams(billions)\"}},\"legend\":{\"title\":{\"text\":\"Artist_x\"},\"tracegroupgap\":0,\"itemsizing\":\"constant\"},\"margin\":{\"t\":60}},                        {\"responsive\": true}                    ).then(function(){\n",
       "                            \n",
       "var gd = document.getElementById('8a513512-c0a0-4c8a-b1d1-b140bcf041fc');\n",
       "var x = new MutationObserver(function (mutations, observer) {{\n",
       "        var display = window.getComputedStyle(gd).display;\n",
       "        if (!display || display === 'none') {{\n",
       "            console.log([gd, 'removed!']);\n",
       "            Plotly.purge(gd);\n",
       "            observer.disconnect();\n",
       "        }}\n",
       "}});\n",
       "\n",
       "// Listen for the removal of the full notebook cells\n",
       "var notebookContainer = gd.closest('#notebook-container');\n",
       "if (notebookContainer) {{\n",
       "    x.observe(notebookContainer, {childList: true});\n",
       "}}\n",
       "\n",
       "// Listen for the clearing of the current output cell\n",
       "var outputEl = gd.closest('.output');\n",
       "if (outputEl) {{\n",
       "    x.observe(outputEl, {childList: true});\n",
       "}}\n",
       "\n",
       "                        })                };                });            </script>        </div>"
      ]
     },
     "metadata": {},
     "output_type": "display_data"
    }
   ],
   "source": [
    "import plotly.express as px\n",
    "\n",
    "# Create the scatter plot\n",
    "fig = px.scatter(merged_df, x=\"ReleaseDate\", y=\"Streams(billions)\", size=\"Weeks\", color=\"Artist_x\",\n",
    "                 hover_name=\"Song\", size_max=60)\n",
    "\n",
    "# Show the plot\n",
    "fig.show()\n"
   ]
  }
 ],
 "metadata": {
  "kernelspec": {
   "display_name": "Python 3 (ipykernel)",
   "language": "python",
   "name": "python3"
  },
  "language_info": {
   "codemirror_mode": {
    "name": "ipython",
    "version": 3
   },
   "file_extension": ".py",
   "mimetype": "text/x-python",
   "name": "python",
   "nbconvert_exporter": "python",
   "pygments_lexer": "ipython3",
   "version": "3.9.13"
  }
 },
 "nbformat": 4,
 "nbformat_minor": 5
}
